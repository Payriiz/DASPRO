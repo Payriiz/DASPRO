{
 "cells": [
  {
   "cell_type": "code",
   "execution_count": 10,
   "id": "4a4b55b7-8890-4f9c-902f-63d9f8773ddd",
   "metadata": {},
   "outputs": [
    {
     "ename": "ModuleNotFoundError",
     "evalue": "No module named 'aritmatika'",
     "output_type": "error",
     "traceback": [
      "\u001b[1;31m---------------------------------------------------------------------------\u001b[0m",
      "\u001b[1;31mModuleNotFoundError\u001b[0m                       Traceback (most recent call last)",
      "Cell \u001b[1;32mIn[10], line 1\u001b[0m\n\u001b[1;32m----> 1\u001b[0m \u001b[38;5;28;01mimport\u001b[39;00m \u001b[38;5;21;01maritmatika\u001b[39;00m\u001b[38;5;21;01m.\u001b[39;00m\u001b[38;5;21;01mmath\u001b[39;00m \u001b[38;5;28;01mas\u001b[39;00m \u001b[38;5;21;01mmath\u001b[39;00m\n",
      "\u001b[1;31mModuleNotFoundError\u001b[0m: No module named 'aritmatika'"
     ]
    }
   ],
   "source": [
    "import aritmatika.math as math"
   ]
  },
  {
   "cell_type": "code",
   "execution_count": 2,
   "id": "079fb456-85dc-4acd-ae9a-654db995db1e",
   "metadata": {},
   "outputs": [],
   "source": [
    "def menuUtama():\n",
    "    print(\"\"\"\n",
    "    1. Aritmatika\n",
    "    2. Konversi\n",
    "    3. Ubah Bilangan\n",
    "    4. Exit\n",
    "    \"\"\")\n",
    "    return menuUtama\n",
    "    \n",
    "def menuMath():\n",
    "    print(\"\"\"\n",
    "    1. Tambah\n",
    "    2. Kali\n",
    "    3. Bagi\n",
    "    4. Exit\n",
    "    \"\"\")\n",
    "    return menuMath\n",
    "    \n",
    "def menuConvert():\n",
    "    print(\"\"\"\n",
    "    1. CM to METER\n",
    "    2. METER to CM\n",
    "    3. Exit\n",
    "    \"\"\")\n",
    "    return menuConvert\n",
    "\n",
    "def menuUbah():\n",
    "    print(\"\"\"\n",
    "    1. Desimal to Biner\n",
    "    2. Desimal to Oktal\n",
    "    3. Desimal to Hexadesimal\n",
    "    4. Exit\n",
    "    \"\"\")"
   ]
  },
  {
   "cell_type": "code",
   "execution_count": 8,
   "id": "c6730c56-7e52-4c1b-b8b1-860c68a94067",
   "metadata": {},
   "outputs": [
    {
     "name": "stdout",
     "output_type": "stream",
     "text": [
      "\n",
      "    1. Aritmatika\n",
      "    2. Konversi\n",
      "    3. Ubah Bilangan\n",
      "    4. Exit\n",
      "    \n"
     ]
    },
    {
     "name": "stdin",
     "output_type": "stream",
     "text": [
      "Pilih menu:  1\n",
      "MASUKKAN ANGKA PERTAMA:  20\n",
      "MASUKKAN ANGKA KEDUA:  2\n"
     ]
    },
    {
     "name": "stdout",
     "output_type": "stream",
     "text": [
      "\n",
      "    1. Tambah\n",
      "    2. Kali\n",
      "    3. Bagi\n",
      "    4. Exit\n",
      "    \n"
     ]
    },
    {
     "name": "stdin",
     "output_type": "stream",
     "text": [
      "Pilih Operasi:  4\n"
     ]
    },
    {
     "name": "stdout",
     "output_type": "stream",
     "text": [
      "THANK YOU!\n"
     ]
    },
    {
     "ename": "NameError",
     "evalue": "name 'r1' is not defined",
     "output_type": "error",
     "traceback": [
      "\u001b[1;31m---------------------------------------------------------------------------\u001b[0m",
      "\u001b[1;31mNameError\u001b[0m                                 Traceback (most recent call last)",
      "Cell \u001b[1;32mIn[8], line 17\u001b[0m\n\u001b[0;32m     15\u001b[0m     \u001b[38;5;28;01melif\u001b[39;00m pilihan\u001b[38;5;241m==\u001b[39m\u001b[38;5;241m4\u001b[39m:\n\u001b[0;32m     16\u001b[0m         \u001b[38;5;28mprint\u001b[39m(\u001b[38;5;124m\"\u001b[39m\u001b[38;5;124mTHANK YOU!\u001b[39m\u001b[38;5;124m\"\u001b[39m)\n\u001b[1;32m---> 17\u001b[0m     \u001b[38;5;28mprint\u001b[39m(\u001b[38;5;124mf\u001b[39m\u001b[38;5;124m\"\u001b[39m\u001b[38;5;124mHASILNYA ADALAH: \u001b[39m\u001b[38;5;132;01m{\u001b[39;00mr1\u001b[38;5;132;01m}\u001b[39;00m\u001b[38;5;124m\"\u001b[39m)\n\u001b[0;32m     18\u001b[0m     \u001b[38;5;28;01mbreak\u001b[39;00m\n\u001b[0;32m     21\u001b[0m \u001b[38;5;28;01melif\u001b[39;00m menu\u001b[38;5;241m==\u001b[39m\u001b[38;5;241m2\u001b[39m:\n",
      "\u001b[1;31mNameError\u001b[0m: name 'r1' is not defined"
     ]
    }
   ],
   "source": [
    "while True:\n",
    "    menuUtama()\n",
    "    menu = int(input(\"Pilih menu: \"))\n",
    "    if menu==1:\n",
    "        num1 = int(input(\"MASUKKAN ANGKA PERTAMA: \"))\n",
    "        num2 = int(input(\"MASUKKAN ANGKA KEDUA: \"))\n",
    "        menuMath()\n",
    "        pilihan = int(input(\"Pilih Operasi: \"))\n",
    "        if pilihan==1:\n",
    "            r1 = math.add(num1,num2)\n",
    "        elif pilihan==2:\n",
    "            r1 = math.multi(num1,num2)\n",
    "        elif pilihan==3:\n",
    "            r1 = math.bagi(num1,num2)\n",
    "        elif pilihan==4:\n",
    "            print(\"THANK YOU!\")\n",
    "        print(f\"HASILNYA ADALAH: {r1}\")\n",
    "        break\n",
    "\n",
    "    \n",
    "    elif menu==2:\n",
    "        menuConvert()\n",
    "        pilihan = int(input(\"Pilih Konversi\"))\n",
    "        if pilihan==1:\n",
    "            r1 = int(input(\"MASUKKAN BERAPA CM: \"))\n",
    "            \n",
    "\n",
    "\n",
    "    \n",
    "    elif menu==4:\n",
    "        print(\"THANK YOU\")\n",
    "        break"
   ]
  }
 ],
 "metadata": {
  "kernelspec": {
   "display_name": "Python [conda env:base] *",
   "language": "python",
   "name": "conda-base-py"
  },
  "language_info": {
   "codemirror_mode": {
    "name": "ipython",
    "version": 3
   },
   "file_extension": ".py",
   "mimetype": "text/x-python",
   "name": "python",
   "nbconvert_exporter": "python",
   "pygments_lexer": "ipython3",
   "version": "3.12.7"
  }
 },
 "nbformat": 4,
 "nbformat_minor": 5
}
