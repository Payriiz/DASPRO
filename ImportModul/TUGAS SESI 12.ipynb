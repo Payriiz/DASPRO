{
 "cells": [
  {
   "cell_type": "code",
   "execution_count": 1,
   "id": "ca53449e-bec7-47c5-a07d-0c035edf5139",
   "metadata": {},
   "outputs": [],
   "source": [
    "import aritmatika.math as math\n",
    "import konversi.convert as convert\n",
    "import ubahbilangan.ubah as ubah"
   ]
  },
  {
   "cell_type": "code",
   "execution_count": 3,
   "id": "079fb456-85dc-4acd-ae9a-654db995db1e",
   "metadata": {},
   "outputs": [],
   "source": [
    "def menuUtama():\n",
    "    print(\"\"\"\n",
    "    1. Aritmatika\n",
    "    2. Konversi\n",
    "    3. Ubah Bilangan\n",
    "    4. Exit\n",
    "    \"\"\")\n",
    "    return menuUtama\n",
    "    \n",
    "def menuMath():\n",
    "    print(\"\"\"\n",
    "    1. Tambah\n",
    "    2. Kali\n",
    "    3. Pangkat\n",
    "    \"\"\")\n",
    "    return menuMath\n",
    "    \n",
    "def menuConvert():\n",
    "    print(\"\"\"\n",
    "    1. CM to METER\n",
    "    2. METER to CM\n",
    "    \"\"\")\n",
    "    return menuConvert\n",
    "\n",
    "def menuUbah():\n",
    "    print(\"\"\"\n",
    "    1. Desimal to Biner\n",
    "    2. Desimal to Oktal\n",
    "    3. Desimal to Hexadesimal\n",
    "    \"\"\")"
   ]
  },
  {
   "cell_type": "code",
   "execution_count": 11,
   "id": "c6730c56-7e52-4c1b-b8b1-860c68a94067",
   "metadata": {},
   "outputs": [
    {
     "name": "stdout",
     "output_type": "stream",
     "text": [
      "\n",
      "    1. Aritmatika\n",
      "    2. Konversi\n",
      "    3. Ubah Bilangan\n",
      "    4. Exit\n",
      "    \n"
     ]
    },
    {
     "name": "stdin",
     "output_type": "stream",
     "text": [
      "Pilih menu:  3\n",
      "MASUKKAN ANGKA DESIMAL:  5\n"
     ]
    },
    {
     "name": "stdout",
     "output_type": "stream",
     "text": [
      "\n",
      "    1. Desimal to Biner\n",
      "    2. Desimal to Oktal\n",
      "    3. Desimal to Hexadesimal\n",
      "    \n"
     ]
    },
    {
     "name": "stdin",
     "output_type": "stream",
     "text": [
      "CONVERT KE MANA? 3\n"
     ]
    },
    {
     "name": "stdout",
     "output_type": "stream",
     "text": [
      "HASILNYA ADALAH: 0x5\n"
     ]
    }
   ],
   "source": [
    "while True:\n",
    "    menuUtama()\n",
    "    menu = int(input(\"Pilih menu: \"))\n",
    "    if menu==1:\n",
    "        num1 = int(input(\"MASUKKAN ANGKA PERTAMA: \"))\n",
    "        num2 = int(input(\"MASUKKAN ANGKA KEDUA: \"))\n",
    "        menuMath()\n",
    "        pilihan = int(input(\"Pilih Operasi: \"))\n",
    "        if pilihan==1:\n",
    "            r1 = math.add(num1,num2)\n",
    "        elif pilihan==2:\n",
    "            r1 = math.multi(num1,num2)\n",
    "        elif pilihan==3:\n",
    "            r1 = math.pow(num1,num2)\n",
    "        print(f\"HASILNYA ADALAH: {r1}\")\n",
    "        break\n",
    "\n",
    "    \n",
    "    elif menu==2:\n",
    "        menuConvert()\n",
    "        pilihan = int(input(\"Pilih Konversi\"))\n",
    "        if pilihan==1:\n",
    "            long1 = int(input(\"MASUKKAN BERAPA CM: \"))\n",
    "            r2 = convert.cmToMeter(long1)\n",
    "        elif pilihan==2:\n",
    "            long2 = int(input(\"MASUKKAN BERAPA M: \"))\n",
    "            r2 = convert.meterToCm(long2)\n",
    "        print(f\"HASILNYA ADALAH: {r2}\")\n",
    "        break\n",
    "\n",
    "\n",
    "    elif menu==3:\n",
    "        desimal = int(input(\"MASUKKAN ANGKA DESIMAL: \"))\n",
    "        menuUbah()\n",
    "        pilihan = int(input(\"CONVERT KE MANA?\"))\n",
    "        if pilihan==1:\n",
    "            r3 = ubah.biner(desimal)\n",
    "        elif pilihan==2:\n",
    "            r3 = ubah.oktal(desimal)\n",
    "        elif pilihan==3:\n",
    "            r3 = ubah.hexa(desimal)\n",
    "        print(f\"HASILNYA ADALAH: {r3}\")\n",
    "        break\n",
    "    \n",
    "    elif menu==4:\n",
    "        print(\"THANK YOU\")\n",
    "        break"
   ]
  }
 ],
 "metadata": {
  "kernelspec": {
   "display_name": "Python [conda env:base] *",
   "language": "python",
   "name": "conda-base-py"
  },
  "language_info": {
   "codemirror_mode": {
    "name": "ipython",
    "version": 3
   },
   "file_extension": ".py",
   "mimetype": "text/x-python",
   "name": "python",
   "nbconvert_exporter": "python",
   "pygments_lexer": "ipython3",
   "version": "3.12.7"
  }
 },
 "nbformat": 4,
 "nbformat_minor": 5
}
