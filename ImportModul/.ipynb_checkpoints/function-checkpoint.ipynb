{
 "cells": [
  {
   "cell_type": "code",
   "execution_count": 45,
   "id": "be9b74f9-651b-49ec-aa77-ddd306148de6",
   "metadata": {},
   "outputs": [
    {
     "name": "stdout",
     "output_type": "stream",
     "text": [
      "today is weekday :(\n",
      "4\n",
      "2025-05-23\n"
     ]
    }
   ],
   "source": [
    "#Function tanpa parameter\n",
    "import datetime\n",
    "def showDate():\n",
    "    today = datetime.date.today()\n",
    "    print(today)\n",
    "\n",
    "def isWeekday():\n",
    "    day = datetime.date.today().weekday()\n",
    "    if day > 4:\n",
    "        print(\"TODAY IS WEEKEND!!!\")\n",
    "    else:\n",
    "        print(\"today is weekday :(\")\n",
    "    print(day)\n",
    "\n",
    "isWeekday()\n",
    "showDate()"
   ]
  },
  {
   "cell_type": "code",
   "execution_count": null,
   "id": "50af63a0-4015-4ecb-8d2f-44c117e7cafb",
   "metadata": {},
   "outputs": [],
   "source": [
    "#Function dengan parameter\n",
    "def getFullName(first,middle,last):\n",
    "    return f\"{first} {middle} {last}, S.kom\"\n",
    "print(getFullName(\"Ibnu\",\"Fariz Fauzan\",\"Hamzah\"))"
   ]
  },
  {
   "cell_type": "code",
   "execution_count": 67,
   "id": "1258614b-24ca-4e6e-8601-aaa12700053d",
   "metadata": {},
   "outputs": [
    {
     "name": "stdout",
     "output_type": "stream",
     "text": [
      "Penjumlahan 3 dan 5 adalah 15\n",
      "Perkalian 4 dan 5 adalah 20\n",
      "Penjumlahan 15 dan 20 adalah 35\n",
      "Hasil penjumlahan: 15\n",
      "Hasil penjumlahan: 50\n"
     ]
    }
   ],
   "source": [
    "def add(num1,num2):\n",
    "    return num1 + num2\n",
    "    print(\"Proses Penjuma=lahan\")\n",
    "    \n",
    "def multiply(num1,num2):\n",
    "    return num1 * num2\n",
    "\n",
    "def aritmathic(num1,num2):\n",
    "    add = num1 + num2\n",
    "    multiply = num1 * num2\n",
    "    return add,multiply\n",
    "    \n",
    "r1 = add(5,10) #15\n",
    "r2 = multiply(4,5) #20\n",
    "r3 = add(r1,r2) #35\n",
    "\n",
    "\n",
    "r4,r5 = aritmathic(10,5)\n",
    "\n",
    "print(f\"Penjumlahan 3 dan 5 adalah {r1}\")\n",
    "print(f\"Perkalian 4 dan 5 adalah {r2}\")\n",
    "print(f\"Penjumlahan {r1} dan {r2} adalah {r3}\")\n",
    "\n",
    "print(f\"Hasil penjumlahan: {r4}\")\n",
    "print(f\"Hasil penjumlahan: {r5}\")"
   ]
  },
  {
   "cell_type": "code",
   "execution_count": 59,
   "id": "557ec092-c882-4fd6-b2ea-11f8d0b100bd",
   "metadata": {},
   "outputs": [
    {
     "name": "stdout",
     "output_type": "stream",
     "text": [
      "Registration is successfull\n",
      "Username:Ibnu\n",
      "Password:Agustus\n",
      "Status:False\n",
      "Role:Admin\n"
     ]
    }
   ],
   "source": [
    "#Function dengan nilai default\n",
    "def userRegist(username,password,status=False,role=\"user\"):\n",
    "    result = \"Registration is successfull\\n\"\n",
    "    result += f\"Username:{username}\\n\"\n",
    "    result += f\"Password:{password}\\n\"\n",
    "    result += f\"Status:{status}\\n\"\n",
    "    result += f\"Role:{role}\"\n",
    "    return result\n",
    "\n",
    "print(userRegist(\"Ibnu\",\"Agustus\",role=\"admin\"))"
   ]
  },
  {
   "cell_type": "code",
   "execution_count": 71,
   "id": "3ce1ec03-2bbb-4d0f-80d1-115b4c7ecefa",
   "metadata": {},
   "outputs": [
    {
     "name": "stdout",
     "output_type": "stream",
     "text": [
      "('Mon', 'Tue', 'Wed')\n",
      "{'name': 'Apay', 'birthday': '25/08/06'}\n",
      "Apay\n",
      "25/08/06\n"
     ]
    }
   ],
   "source": [
    "# * = argument, ** = keywoard argument\n",
    "def printData(*arg,**kwarg):\n",
    "    return arg,kwarg\n",
    "\n",
    "arg,kwarg = printData(\"Mon\",\"Tue\",\"Wed\",name = \"Apay\", birthday = \"25/08/06\")\n",
    "\n",
    "print(arg)\n",
    "print(kwarg)\n",
    "\n",
    "for i in kwarg.items():\n",
    "    print(i[1])"
   ]
  },
  {
   "cell_type": "code",
   "execution_count": 3,
   "id": "cadfef60-69b8-40ac-95c4-1020c1b578cb",
   "metadata": {},
   "outputs": [],
   "source": [
    "#Buatlah function untuk menjumlahkan semua nilai yang ada di parameter\n",
    "#Coding di depa\n",
    "import numpy as np"
   ]
  },
  {
   "cell_type": "code",
   "execution_count": 22,
   "id": "bb289e53-306e-4fd4-99f1-f76b0739e8ad",
   "metadata": {},
   "outputs": [
    {
     "name": "stdout",
     "output_type": "stream",
     "text": [
      "15\n",
      "120\n"
     ]
    }
   ],
   "source": [
    "def nomor(*arg,**kwarg):\n",
    "    if kwarg[\"Operator\"] == \"+\" :\n",
    "        add = 0\n",
    "        for i in arg:\n",
    "            add+=i\n",
    "        return add\n",
    "    elif kwarg[\"Operator\"] == \"*\" :\n",
    "        multiply=1\n",
    "        for i in arg:\n",
    "            multiply*=i\n",
    "        return multiply\n",
    "\n",
    "print(nomor(1,2,3,4,5,Operator = \"+\"))\n",
    "print(nomor(1,2,3,4,5,Operator = \"*\"))"
   ]
  },
  {
   "cell_type": "code",
   "execution_count": 28,
   "id": "80ea4455-f69c-4870-99c3-52903e9d0637",
   "metadata": {},
   "outputs": [
    {
     "name": "stdout",
     "output_type": "stream",
     "text": [
      "120\n"
     ]
    }
   ],
   "source": [
    "def math(*arg,**kwarg):\n",
    "    add = 0\n",
    "    multiply = 1\n",
    "    for i in arg:\n",
    "        if kwarg[\"oper\"]==\"+\":\n",
    "            add+=i\n",
    "            result=add\n",
    "        elif kwarg[\"oper\"]==\"*\":\n",
    "            multiply*=i\n",
    "            result=multiply\n",
    "    return result\n",
    "\n",
    "print(math(1,2,3,4,5,oper=\"*\"))"
   ]
  }
 ],
 "metadata": {
  "kernelspec": {
   "display_name": "Python [conda env:base] *",
   "language": "python",
   "name": "conda-base-py"
  },
  "language_info": {
   "codemirror_mode": {
    "name": "ipython",
    "version": 3
   },
   "file_extension": ".py",
   "mimetype": "text/x-python",
   "name": "python",
   "nbconvert_exporter": "python",
   "pygments_lexer": "ipython3",
   "version": "3.12.7"
  }
 },
 "nbformat": 4,
 "nbformat_minor": 5
}
