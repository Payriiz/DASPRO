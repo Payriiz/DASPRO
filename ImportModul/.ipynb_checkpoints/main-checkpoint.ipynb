{
 "cells": [
  {
   "cell_type": "code",
   "execution_count": 63,
   "id": "5a958faf-b657-4c4b-9062-d80934f258d9",
   "metadata": {},
   "outputs": [
    {
     "name": "stdin",
     "output_type": "stream",
     "text": [
      "Angka 1:  2\n",
      "Angka 2:  2\n"
     ]
    },
    {
     "name": "stdout",
     "output_type": "stream",
     "text": [
      "Hasil penjumlahan 2 dan 2 = 4\n",
      "Hasil perkalian 2 dan 2 = 4\n",
      "Hasil pangkat 2^2 = 4\n"
     ]
    }
   ],
   "source": [
    "import aritmatika.math as math #mengambil seluruh yang ada di math.py\n",
    "\n",
    "num1 = int(input(\"Angka 1: \"))\n",
    "num2 = int(input(\"Angka 2: \"))\n",
    "\n",
    "r1 = math.add(num1,num2)\n",
    "r2 = math.multi(num1,num2)\n",
    "r3 = math.pow(num1,num2)\n",
    "\n",
    "print(f\"Hasil penjumlahan {num1} dan {num2} = {r1}\")\n",
    "print(f\"Hasil perkalian {num1} dan {num2} = {r2}\")\n",
    "print(f\"Hasil pangkat {num1}^{num2} = {r3}\")"
   ]
  },
  {
   "cell_type": "code",
   "execution_count": null,
   "id": "d23ee987-14ac-4d59-85ec-9b434904382d",
   "metadata": {},
   "outputs": [],
   "source": [
    "from konversi.convert import cmToMeter as ctm #hanya mengambil salah satu dari convert.py\n",
    "\n",
    "cm = int(input(\"Masukkan Berapa CM: \"))\n",
    "hasil= ctm(cm)\n",
    "print(f\"{cm}cm = {hasil}m\")"
   ]
  },
  {
   "cell_type": "markdown",
   "id": "f731e2b1-0a1d-406c-b57c-31f67e8e3c3b",
   "metadata": {},
   "source": [
    "<h1>TUGAS</h1>\n",
    "Buatkan pilihan mau convert atau aritmatika"
   ]
  },
  {
   "cell_type": "code",
   "execution_count": 69,
   "id": "01fed468-0571-4774-9b22-00ab755c09b2",
   "metadata": {},
   "outputs": [],
   "source": [
    "def menuUtama():\n",
    "    print(\"\"\"\n",
    "    1. Aritmatika\n",
    "    2. Convert\n",
    "    3. Exit\n",
    "    \"\"\")\n",
    "    return menuUtama\n",
    "    \n",
    "def menuMath():\n",
    "    print(\"\"\"\n",
    "    1. Tambah\n",
    "    2. Kali\n",
    "    3. Bagi\n",
    "    4. Exit\n",
    "    \"\"\")\n",
    "    return menuMath\n",
    "    \n",
    "def menuConvert():\n",
    "    print(\"\"\"\n",
    "    1. cm to meter\n",
    "    2. meter to cm\n",
    "    \"\"\")\n",
    "    return menuConvert"
   ]
  },
  {
   "cell_type": "code",
   "execution_count": 67,
   "id": "e795fc44-3ca9-4772-b01e-90555eaf432e",
   "metadata": {},
   "outputs": [
    {
     "name": "stdout",
     "output_type": "stream",
     "text": [
      "\n",
      "    1. Aritmatika\n",
      "    2. Convert\n",
      "    3. Exit\n",
      "    \n"
     ]
    },
    {
     "name": "stdin",
     "output_type": "stream",
     "text": [
      "Pilih menu:  1\n",
      "MASUKKAN ANGKA PERTAMA:  5\n",
      "MASUKKAN ANGKA KEDUA:  5\n"
     ]
    },
    {
     "name": "stdout",
     "output_type": "stream",
     "text": [
      "\n",
      "    1. Tambah\n",
      "    2. Kali\n",
      "    3. Bagi\n",
      "    4. Exit\n",
      "    \n"
     ]
    },
    {
     "name": "stdin",
     "output_type": "stream",
     "text": [
      "Pilih Operasi:  3\n"
     ]
    },
    {
     "ename": "AttributeError",
     "evalue": "module 'aritmatika.math' has no attribute 'bagi'",
     "output_type": "error",
     "traceback": [
      "\u001b[1;31m---------------------------------------------------------------------------\u001b[0m",
      "\u001b[1;31mAttributeError\u001b[0m                            Traceback (most recent call last)",
      "Cell \u001b[1;32mIn[67], line 14\u001b[0m\n\u001b[0;32m     12\u001b[0m     r1 \u001b[38;5;241m=\u001b[39m math\u001b[38;5;241m.\u001b[39mmulti(num1,num2)\n\u001b[0;32m     13\u001b[0m \u001b[38;5;28;01melif\u001b[39;00m pilihan\u001b[38;5;241m==\u001b[39m\u001b[38;5;241m3\u001b[39m:\n\u001b[1;32m---> 14\u001b[0m     r1 \u001b[38;5;241m=\u001b[39m math\u001b[38;5;241m.\u001b[39mbagi(num1,num2)\n\u001b[0;32m     15\u001b[0m \u001b[38;5;28mprint\u001b[39m(\u001b[38;5;124mf\u001b[39m\u001b[38;5;124m\"\u001b[39m\u001b[38;5;124mHASILNYA ADALAH: \u001b[39m\u001b[38;5;132;01m{\u001b[39;00mr1\u001b[38;5;132;01m}\u001b[39;00m\u001b[38;5;124m\"\u001b[39m)\n\u001b[0;32m     16\u001b[0m \u001b[38;5;28;01mbreak\u001b[39;00m\n",
      "\u001b[1;31mAttributeError\u001b[0m: module 'aritmatika.math' has no attribute 'bagi'"
     ]
    }
   ],
   "source": [
    "while True:\n",
    "    menuUtama()\n",
    "    menu = int(input(\"Pilih menu: \"))\n",
    "    if menu==1:\n",
    "        num1 = int(input(\"MASUKKAN ANGKA PERTAMA: \"))\n",
    "        num2 = int(input(\"MASUKKAN ANGKA KEDUA: \"))\n",
    "        menuMath()\n",
    "        pilihan = int(input(\"Pilih Operasi: \"))\n",
    "        if pilihan==1:\n",
    "            r1 = math.add(num1,num2)\n",
    "        elif pilihan==2:\n",
    "            r1 = math.multi(num1,num2)\n",
    "        elif pilihan==3:\n",
    "            r1 = math.bagi(num1,num2)\n",
    "        print(f\"HASILNYA ADALAH: {r1}\")\n",
    "        break\n",
    "\n",
    "    \n",
    "    elif menu==2:\n",
    "        menuConvert()\n",
    "        pilihan = int(input(\"Pilih Konversi\"))\n",
    "        if pilihan==1:\n",
    "            r1 = int(input(\"MASUKKAN BERAPA CM: \"))\n",
    "            hasil = \n",
    "    elif menu==3:\n",
    "        print(\"Thankyou\")\n",
    "        break"
   ]
  }
 ],
 "metadata": {
  "kernelspec": {
   "display_name": "Python [conda env:base] *",
   "language": "python",
   "name": "conda-base-py"
  },
  "language_info": {
   "codemirror_mode": {
    "name": "ipython",
    "version": 3
   },
   "file_extension": ".py",
   "mimetype": "text/x-python",
   "name": "python",
   "nbconvert_exporter": "python",
   "pygments_lexer": "ipython3",
   "version": "3.12.7"
  }
 },
 "nbformat": 4,
 "nbformat_minor": 5
}
