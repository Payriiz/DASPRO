{
 "cells": [
  {
   "cell_type": "markdown",
   "id": "5363933b-90b1-4d06-8cb5-7c2b52322b02",
   "metadata": {},
   "source": [
    "<h1>NOMOR 1</h1>"
   ]
  },
  {
   "cell_type": "code",
   "execution_count": 8,
   "id": "9ca66654-e93d-41cc-bbbd-f4a0c1027641",
   "metadata": {},
   "outputs": [
    {
     "name": "stdin",
     "output_type": "stream",
     "text": [
      "Masukkan nama anda:  Ibnu\n",
      "Berapa usia anda:  18\n",
      "Masukkan asal kota:  Cibadak\n",
      "Sedang berkuliah di:  Universitas Nusa Putra\n"
     ]
    },
    {
     "name": "stdout",
     "output_type": "stream",
     "text": [
      "===========================================================\n",
      "Nama: Ibnu\n",
      "Umur: 18\n",
      "Asal: Cibadak\n",
      "Kuliah: Universitas Nusa Putra\n"
     ]
    }
   ],
   "source": [
    "nama = input(\"Masukkan nama anda: \")\n",
    "umur = int(input(\"Berapa usia anda: \"))\n",
    "asal = input(\"Masukkan asal kota: \")\n",
    "kuliah = input(\"Sedang berkuliah di: \")\n",
    "print(\"===========================================================\")\n",
    "print(\"Nama: {0}\\nUmur: {1}\\nAsal: {2}\\nKuliah: {3}\".format(nama,umur,asal,kuliah))"
   ]
  },
  {
   "cell_type": "markdown",
   "id": "a579a489-c2d2-4d19-b318-29afb9fa9d6e",
   "metadata": {},
   "source": [
    "<h1>NOMOR 2</h1>"
   ]
  },
  {
   "cell_type": "code",
   "execution_count": 30,
   "id": "8cd7c436-1147-478c-b6e2-2f473643fb8e",
   "metadata": {},
   "outputs": [
    {
     "name": "stdout",
     "output_type": "stream",
     "text": [
      "UNIVERSITAS NUSA PUTRA SUKABUMI\n",
      "a: putra nusa\n",
      "===============================================\n",
      "b: NIVERSITAS NSA PTRA SKABMI\n",
      "===============================================\n",
      "c: ['SUKABUMI', 'PUTRA', 'NUSA', 'UNIVERSITAS']\n",
      "===============================================\n",
      "d: UNPS\n",
      "===============================================\n",
      "e: TAS SAPU BUMI\n"
     ]
    }
   ],
   "source": [
    "kalimat = \"UNIVERSITAS NUSA PUTRA SUKABUMI\"\n",
    "print(kalimat)\n",
    "kata = kalimat.split()\n",
    "print(\"a:\",kata[2].lower(), kata[1].lower())\n",
    "print(\"===============================================\")\n",
    "hapusU = kalimat.replace(\"U\",\"\")\n",
    "print(\"b:\",hapusU)\n",
    "print(\"===============================================\")\n",
    "print(\"c:\",kalimat.split()[::-1])\n",
    "print(\"===============================================\")\n",
    "print(\"d:\",kata[0][0]+kata[1][0]+kata[2][0]+kata[3][0])\n",
    "print(\"===============================================\")\n",
    "print(\"e:\",kata[0][-3:],kata[1][-2:]+kata[2][:+2],kata[3][-4:])"
   ]
  }
 ],
 "metadata": {
  "kernelspec": {
   "display_name": "Python [conda env:base] *",
   "language": "python",
   "name": "conda-base-py"
  },
  "language_info": {
   "codemirror_mode": {
    "name": "ipython",
    "version": 3
   },
   "file_extension": ".py",
   "mimetype": "text/x-python",
   "name": "python",
   "nbconvert_exporter": "python",
   "pygments_lexer": "ipython3",
   "version": "3.12.7"
  }
 },
 "nbformat": 4,
 "nbformat_minor": 5
}
