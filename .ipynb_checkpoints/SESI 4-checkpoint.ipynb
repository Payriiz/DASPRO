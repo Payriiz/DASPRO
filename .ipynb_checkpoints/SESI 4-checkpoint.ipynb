{
 "cells": [
  {
   "cell_type": "markdown",
   "id": "3ab39a8b-2107-40c6-97c0-d8d00976f9c9",
   "metadata": {},
   "source": [
    "<h1>OPERASI ARITMATIKA</h1>"
   ]
  },
  {
   "cell_type": "code",
   "execution_count": null,
   "id": "f1b246f1-74b1-404e-acfe-4b8a6840a930",
   "metadata": {},
   "outputs": [],
   "source": [
    "x = int(input(\"Masukkan nilai x: \"))\n",
    "y = int(input(\"Masukkan nilai y: \"))\n",
    "\n",
    "hasilTambah = x + y\n",
    "hasilKurang = x - y\n",
    "hasilKali =  x * y\n",
    "hasilBagi = x / y\n",
    "hasilMod = x % y\n",
    "hasilPangkat = x ** y\n",
    "hasilBagiBulat = x // y\n",
    "\n",
    "print(\"Hasil penjumlahan\",x,\"+\",y,\"=\",hasilTambah)\n",
    "print(\"Hasil pengurangan\",x,\"-\",y,\"=\",hasilKurang)\n",
    "print(\"Hasil perkalian\",x,\"x\",y,\"=\",hasilKali)\n",
    "print(\"Hasil pembagian\",x,\"/\",y,\"=\",hasilBagi)\n",
    "print(\"Hasil modulus\",x,\"%\",y,\"=\",hasilMod)\n",
    "print(\"Hasil pangkat\",x,\"^\",y,\"=\",hasilPangkat)\n",
    "print(\"Hasil pembagian bulat\",x,\"//\",y,\"=\",hasilBagiBulat)"
   ]
  },
  {
   "cell_type": "markdown",
   "id": "9d6780b1-a5a0-402f-b010-857a116ef7b0",
   "metadata": {},
   "source": [
    "<h1>OPERASI PENUGASAN</h1>"
   ]
  },
  {
   "cell_type": "code",
   "execution_count": 36,
   "id": "9394004a-c3af-40c3-889c-d0941ce633a3",
   "metadata": {},
   "outputs": [
    {
     "name": "stdin",
     "output_type": "stream",
     "text": [
      "Isikan Nilai:  10\n"
     ]
    },
    {
     "name": "stdout",
     "output_type": "stream",
     "text": [
      "Nilai dari variabel 'number' 10\n",
      "Setelah ditambah dengan 5: 15\n",
      "Setelah dikurangi dengan 10: 5\n",
      "Selanjutnya dibagi dengan 2: 2\n",
      "Terakhir dikalikan 5: 10\n"
     ]
    }
   ],
   "source": [
    "number = int(input(\"Isikan Nilai: \"))\n",
    "print(\"Nilai dari variabel 'number'\",number)\n",
    "number+=5\n",
    "print(\"Setelah ditambah dengan 5:\",number)\n",
    "number-=10\n",
    "print(\"Setelah dikurangi dengan 10:\",number)\n",
    "number//=2\n",
    "print(\"Selanjutnya dibagi dengan 2:\",number)\n",
    "number*=5\n",
    "print(\"Terakhir dikalikan 5:\",number)"
   ]
  },
  {
   "cell_type": "markdown",
   "id": "ed7712e3-7fe5-493c-8139-64f0fe57eefb",
   "metadata": {},
   "source": [
    "<h1>OPERASI PERBANDINGAN</h1>"
   ]
  },
  {
   "cell_type": "code",
   "execution_count": 40,
   "id": "a10097e3-11a6-4073-be48-4e004fc8cc03",
   "metadata": {},
   "outputs": [
    {
     "name": "stdin",
     "output_type": "stream",
     "text": [
      "Isikan untuk Value 1:  5\n",
      "Isikan untuk Value 2:  9\n"
     ]
    },
    {
     "name": "stdout",
     "output_type": "stream",
     "text": [
      "Apakah 5 > 9 ? False\n",
      "Apakah 5 < 9 ? True\n",
      "Apakah 5 >= 9 ? False\n",
      "Apakah 5 <= 9 ? True\n",
      "Apakah 5 == 9 ? False\n",
      "Apakah 5 != 9 ? True\n"
     ]
    }
   ],
   "source": [
    "val1 = int(input(\"Isikan untuk Value 1: \"))\n",
    "val2 = int(input(\"Isikan untuk Value 2: \"))\n",
    "\n",
    "print(\"Apakah\",val1,\">\",val2,\"?\", val1 > val2)\n",
    "print(\"Apakah\",val1,\"<\",val2,\"?\", val1 < val2)\n",
    "print(\"Apakah\",val1,\">=\",val2,\"?\", val1 >= val2)\n",
    "print(\"Apakah\",val1,\"<=\",val2,\"?\", val1 <= val2)\n",
    "print(\"Apakah\",val1,\"==\",val2,\"?\", val1 == val2)\n",
    "print(\"Apakah\",val1,\"!=\",val2,\"?\", val1 != val2)"
   ]
  },
  {
   "cell_type": "markdown",
   "id": "12ea5b3b-db5c-4364-9544-fede614bfc20",
   "metadata": {},
   "source": [
    "<h1>OPERATOR LOGIKA</h1>"
   ]
  },
  {
   "cell_type": "code",
   "execution_count": 72,
   "id": "043ac05c-9ad5-464f-a7e3-c87be6b792e0",
   "metadata": {},
   "outputs": [
    {
     "name": "stdin",
     "output_type": "stream",
     "text": [
      "Isikan untuk Number 1:  5\n",
      "Isikan untuk Number 2:  4\n",
      "Isikan untuk Number 3:  3\n",
      "Isikan untuk Number 4:  2\n"
     ]
    },
    {
     "name": "stdout",
     "output_type": "stream",
     "text": [
      "Apakah 5 > 4 and 3 == 2 ?\n",
      "False\n",
      "Apakah 5 > 4 and 3 == 2 ?\n",
      "True\n",
      "Apakah 5 > 4 and 3 == 2 ?\n",
      "True\n",
      "Apakah 5 > 4 and 3 == 2 ?\n",
      "False\n"
     ]
    }
   ],
   "source": [
    "number1 = int(input(\"Isikan untuk Number 1: \"))\n",
    "number2 = int(input(\"Isikan untuk Number 2: \"))\n",
    "number3 = int(input(\"Isikan untuk Number 3: \"))\n",
    "number4 = int(input(\"Isikan untuk Number 4: \"))\n",
    "\n",
    "print(\"Apakah\",number1,\">\",number2,\"and\",number3,\"==\",number4,\"?\")\n",
    "print(number1>number2 and number3==number4)\n",
    "\n",
    "print(\"Apakah\",number1,\">\",number2,\"and\",number3,\"==\",number4,\"?\")\n",
    "print(number1>number2 or number3==number4)\n",
    "\n",
    "#nand (not and)\n",
    "print(\"Apakah\",number1,\">\",number2,\"and\",number3,\"==\",number4,\"?\")\n",
    "print(not(number1>number2 and number3==number4))\n",
    "\n",
    "#nor (not or)\n",
    "print(\"Apakah\",number1,\">\",number2,\"and\",number3,\"==\",number4,\"?\")\n",
    "print(not(number1>number2 or number3==number4))"
   ]
  },
  {
   "cell_type": "markdown",
   "id": "6531f6c0-79a4-4296-bad9-312439594092",
   "metadata": {},
   "source": [
    "<H1>OPERASI IDENTITAS</H1>"
   ]
  },
  {
   "cell_type": "code",
   "execution_count": 87,
   "id": "5f747716-e943-4a5e-b28a-bce1763a5659",
   "metadata": {},
   "outputs": [
    {
     "name": "stdout",
     "output_type": "stream",
     "text": [
      "Alamat memori idty 1 140709694221016\n",
      "Alamat memori idty 2 2357801511328\n",
      "Alamat memori idty 3 140709694221016\n",
      "=====================================================\n",
      "Apakah idty1 is idty 2? False\n",
      "Apakah idty2 is idty 3? False\n",
      "Apakah idty3 is idty 1? True\n",
      "=====================================================\n",
      "Apakah idty1 is not idty 2? True\n",
      "Apakah idty2 is not idty 3? True\n",
      "Apakah idty3 is not idty 1? False\n"
     ]
    }
   ],
   "source": [
    "idty1 = 10\n",
    "idty2 = \"10\"\n",
    "idty3 = idty1\n",
    "\n",
    "print(\"Alamat memori idty 1\",id(idty1))\n",
    "print(\"Alamat memori idty 2\",id(idty2))\n",
    "print(\"Alamat memori idty 3\",id(idty3))\n",
    "\n",
    "print(\"=====================================================\")\n",
    "\n",
    "print(\"Apakah idty1 is idty 2?\",idty1 is idty2)\n",
    "print(\"Apakah idty2 is idty 3?\",idty2 is idty3)\n",
    "print(\"Apakah idty3 is idty 1?\",idty3 is idty1)\n",
    "\n",
    "print(\"=====================================================\")\n",
    "\n",
    "print(\"Apakah idty1 is not idty 2?\",idty1 is not idty2)\n",
    "print(\"Apakah idty2 is not idty 3?\",idty2 is not idty3)\n",
    "print(\"Apakah idty3 is not idty 1?\",idty3 is not idty1)"
   ]
  },
  {
   "cell_type": "markdown",
   "id": "41396c63-d9f4-4528-9c91-4dbd3cf0918c",
   "metadata": {},
   "source": [
    "<h1>OPERATOR KEANGGOTAAN</h1>"
   ]
  },
  {
   "cell_type": "code",
   "execution_count": 114,
   "id": "07df4abc-3a93-4da9-bdbc-90dc0144c30a",
   "metadata": {},
   "outputs": [
    {
     "name": "stdin",
     "output_type": "stream",
     "text": [
      "INSERT YOUR FRUIT:  apel\n"
     ]
    },
    {
     "name": "stdout",
     "output_type": "stream",
     "text": [
      "is there any apel in ['Watermelon', 'Mango', 'Star Fruit', 'Pineapple'] ? False\n",
      "is there any apel in ['Watermelon', 'Mango', 'Star Fruit', 'Pineapple'] ? True\n"
     ]
    }
   ],
   "source": [
    "listFruit = [\"Watermelon\",\"Mango\",\"Star Fruit\",\"Pineapple\"]\n",
    "findFruit = input(\"INSERT YOUR FRUIT: \")\n",
    "print(\"is there any\",findFruit,\"in\",listFruit,\"?\", findFruit in listFruit)\n",
    "print(\"is there any\",findFruit,\"in\",listFruit,\"?\", findFruit not in listFruit)"
   ]
  },
  {
   "cell_type": "markdown",
   "id": "59d5f016-6837-4731-b184-460410fd0bd7",
   "metadata": {},
   "source": [
    "<h1>OPERATOR BITWISE</h1>"
   ]
  },
  {
   "cell_type": "code",
   "execution_count": 124,
   "id": "549c22ec-5f64-4cdf-90a5-1a28ee95d594",
   "metadata": {},
   "outputs": [
    {
     "name": "stdin",
     "output_type": "stream",
     "text": [
      "MASUKKAN BILANGAN 1:  8\n",
      "MASUKKAN BILANGAN 2:  12\n"
     ]
    },
    {
     "name": "stdout",
     "output_type": "stream",
     "text": [
      "\n",
      "0b1000\n",
      "0b1100\n",
      "==============\n",
      "0b1000\n",
      "0b1100\n",
      "==============\n",
      "0b1100 = 12\n"
     ]
    }
   ],
   "source": [
    "num1 = int(input(\"MASUKKAN BILANGAN 1: \"))\n",
    "num2 = int(input(\"MASUKKAN BILANGAN 2: \"))\n",
    "\n",
    "\n",
    "print()\n",
    "bAnd = num1 & num2\n",
    "print(bin(num1))\n",
    "print(bin(num2))\n",
    "print(\"==============\")\n",
    "bOr = num1|num2\n",
    "print(bin(num1))\n",
    "print(bin(num2))\n",
    "print(\"==============\")\n",
    "print(bin(bOr),\"=\",bOr)"
   ]
  },
  {
   "cell_type": "markdown",
   "id": "bb226175-d432-48c3-b669-6bd30fb2b66a",
   "metadata": {},
   "source": [
    "<h1>OPERATOR TERNARY</h1>"
   ]
  },
  {
   "cell_type": "code",
   "execution_count": 133,
   "id": "e9886189-c01a-4616-afe7-e7081e40943b",
   "metadata": {},
   "outputs": [
    {
     "name": "stdin",
     "output_type": "stream",
     "text": [
      "ISIKAN BILANGAN:  3\n"
     ]
    },
    {
     "name": "stdout",
     "output_type": "stream",
     "text": [
      "3 adalah bilangan Ganjil\n"
     ]
    }
   ],
   "source": [
    "#BILANGAN GANJIL ATAU GENAP\n",
    "bilangan = int(input(\"ISIKAN BILANGAN: \"))\n",
    "hasil = \"Genap\" if bilangan %2==0 else \"Ganjil\"\n",
    "print(bilangan,\"adalah bilangan\",hasil)"
   ]
  },
  {
   "cell_type": "code",
   "execution_count": 3,
   "id": "5fc5feb3-13b8-4069-bb3d-3151d885ccb8",
   "metadata": {},
   "outputs": [
    {
     "name": "stdin",
     "output_type": "stream",
     "text": [
      "JUMLAH ES BUAH:  1\n",
      "JUMLAH ES TELER:  1\n",
      "JUMLAH ES KELAPA:  1\n"
     ]
    },
    {
     "name": "stdout",
     "output_type": "stream",
     "text": [
      "HARGA ES BUAH:  1 x 10000 = 10000\n",
      "HARGA ES TELER:  15000 x 15000 = 15000\n",
      "HARGA ES KELAPA:  20000 x 20000 = 20000\n",
      "TOTAL:  45000\n",
      "DAPAT DISKON:  0\n",
      "TOTAL HARGA SELURUH:  45000\n"
     ]
    }
   ],
   "source": [
    "# HARGA\n",
    "satuEsBuah = 10000\n",
    "satuEsTeler = 15000\n",
    "satuEsKelapa = 20000\n",
    "\n",
    "esBuah = int(input(\"JUMLAH ES BUAH: \"))\n",
    "esTeler = int(input(\"JUMLAH ES TELER: \"))\n",
    "esKelapa = int(input(\"JUMLAH ES KELAPA: \"))\n",
    "\n",
    "jumlahEsBuah = satuEsBuah * esBuah\n",
    "print(\"HARGA ES BUAH: \",esBuah,\"x\",satuEsBuah,\"=\",jumlahEsBuah)\n",
    "jumlahEsTeler = satuEsTeler * esTeler\n",
    "print(\"HARGA ES TELER: \",jumlahEsTeler,\"x\",satuEsTeler,\"=\",jumlahEsTeler)\n",
    "jumlahEsKelapa = satuEsKelapa * esKelapa\n",
    "print(\"HARGA ES KELAPA: \",jumlahEsKelapa,\"x\",satuEsKelapa,\"=\",jumlahEsKelapa)\n",
    "\n",
    "jumlahSeluruh = jumlahEsBuah + jumlahEsTeler + jumlahEsKelapa\n",
    "print(\"TOTAL: \",jumlahSeluruh)\n",
    "\n",
    "diskon = int(jumlahSeluruh/100) * 10 if jumlahSeluruh >= 100000 else 0\n",
    "print(\"DAPAT DISKON: \",diskon)\n",
    "totalHarga = jumlahSeluruh - diskon\n",
    "print(\"TOTAL HARGA SELURUH: \",totalHarga)\n",
    "\n",
    "uangDiberikan = int(input(\"UANG DIBERIKAN: \"))\n",
    "print"
   ]
  },
  {
   "cell_type": "code",
   "execution_count": 3,
   "id": "884a9706-c3b2-4ae0-b41f-aec9d0bb05e9",
   "metadata": {},
   "outputs": [
    {
     "name": "stdin",
     "output_type": "stream",
     "text": [
      "MASUKKAN BILANGAN:  5678\n"
     ]
    },
    {
     "name": "stdout",
     "output_type": "stream",
     "text": [
      "HASILNYA:  5652\n"
     ]
    }
   ],
   "source": [
    "bilangan = input(\"MASUKKAN BILANGAN: \")\n",
    "kurang = int(bilangan[0])+int(bilangan[1])+int(bilangan[2])+int(bilangan[3])\n",
    "hasil = int(bilangan) - kurang\n",
    "print(\"HASILNYA: \",hasil)"
   ]
  }
 ],
 "metadata": {
  "kernelspec": {
   "display_name": "Python [conda env:base] *",
   "language": "python",
   "name": "conda-base-py"
  },
  "language_info": {
   "codemirror_mode": {
    "name": "ipython",
    "version": 3
   },
   "file_extension": ".py",
   "mimetype": "text/x-python",
   "name": "python",
   "nbconvert_exporter": "python",
   "pygments_lexer": "ipython3",
   "version": "3.12.7"
  }
 },
 "nbformat": 4,
 "nbformat_minor": 5
}
