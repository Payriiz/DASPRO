{
 "cells": [
  {
   "cell_type": "code",
   "execution_count": 20,
   "id": "1096b30f-1e71-41e7-a08a-fb08affd9dcb",
   "metadata": {},
   "outputs": [
    {
     "name": "stdin",
     "output_type": "stream",
     "text": [
      "MASUKKAN NOMOR PUNGGUNG:  15\n"
     ]
    },
    {
     "name": "stdout",
     "output_type": "stream",
     "text": [
      "NOMOR PUNGGUNG: 15 bisa mengisi di posisi: KEEPER\n"
     ]
    }
   ],
   "source": [
    "nopung = int(input(\"MASUKKAN NOMOR PUNGGUNG: \"))\n",
    "if nopung %2==0:\n",
    "    posisi = \"TAREGET ATTACKER\"\n",
    "    if nopung >= 50:\n",
    "        if nopung <= 100:\n",
    "            posisi = \"CAPTAIN TEAM\"\n",
    "else:\n",
    "    posisi= \"DEFENDER\"\n",
    "    if nopung > 90:\n",
    "        posisi = \"PLAYMAKER\"\n",
    "    elif nopung %3==0 and nopung %5==0:\n",
    "        posisi = \"KEEPER\"\n",
    "\n",
    "print(f\"NOMOR PUNGGUNG: {nopung} bisa mengisi di posisi: {posisi}\")"
   ]
  }
 ],
 "metadata": {
  "kernelspec": {
   "display_name": "Python [conda env:base] *",
   "language": "python",
   "name": "conda-base-py"
  },
  "language_info": {
   "codemirror_mode": {
    "name": "ipython",
    "version": 3
   },
   "file_extension": ".py",
   "mimetype": "text/x-python",
   "name": "python",
   "nbconvert_exporter": "python",
   "pygments_lexer": "ipython3",
   "version": "3.12.7"
  }
 },
 "nbformat": 4,
 "nbformat_minor": 5
}
