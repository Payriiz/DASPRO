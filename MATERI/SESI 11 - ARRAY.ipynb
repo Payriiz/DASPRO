{
 "cells": [
  {
   "cell_type": "markdown",
   "id": "8bb60931-a3f0-4361-9cae-01057276a607",
   "metadata": {},
   "source": [
    "<h1>NUMPY</h1>"
   ]
  },
  {
   "cell_type": "code",
   "execution_count": 2,
   "id": "c74ac41e-64fe-43f7-b687-70e3589823fc",
   "metadata": {},
   "outputs": [],
   "source": [
    "import numpy as np"
   ]
  },
  {
   "cell_type": "code",
   "execution_count": 4,
   "id": "265cce6a-e4e4-4576-85bb-b56048d1adc5",
   "metadata": {},
   "outputs": [],
   "source": [
    "mat1D = np.array([1,2,3,4,5,6,7,8,9])\n",
    "mat2D = np.array([[10,20,30,40],[50,60,70,80],[90,100,110,120]])"
   ]
  },
  {
   "cell_type": "code",
   "execution_count": 16,
   "id": "fee0b2c4-328d-486d-bdb8-39dd2bd3e6f8",
   "metadata": {},
   "outputs": [
    {
     "name": "stdout",
     "output_type": "stream",
     "text": [
      "nilai Matriks 1D:\n",
      "[1 2 3 4 5 6 7 8 9]\n",
      "nilai Matriks 2D:\n",
      "[[ 10  20  30  40]\n",
      " [ 50  60  70  80]\n",
      " [ 90 100 110 120]]\n"
     ]
    }
   ],
   "source": [
    "print(f\"nilai Matriks 1D:\\n{mat1D}\")\n",
    "print(f\"nilai Matriks 2D:\\n{mat2D}\")"
   ]
  },
  {
   "cell_type": "code",
   "execution_count": 30,
   "id": "d9f001cc-0004-41e8-b5e5-708b9855623d",
   "metadata": {},
   "outputs": [
    {
     "name": "stdout",
     "output_type": "stream",
     "text": [
      "2\n",
      "[50 60 70 80]\n",
      "70\n",
      "mat1D ditambah dengan 10:\n",
      "[11 12 13 14 15 16 17 18 19]\n",
      "mat2D ditambah dengan 2:\n",
      "[[ 12  22  32  42]\n",
      " [ 52  62  72  82]\n",
      " [ 92 102 112 122]]\n"
     ]
    }
   ],
   "source": [
    "print(mat1D[1]) #2\n",
    "print(mat2D[1]) #[50,60,80,80]\n",
    "print(mat2D[1][2]) #70\n",
    "print(f\"mat1D ditambah dengan 10:\\n{mat1D + 10}\")\n",
    "print(f\"mat2D ditambah dengan 2:\\n{mat2D + 2}\")"
   ]
  },
  {
   "cell_type": "code",
   "execution_count": 34,
   "id": "f963fad4-d9a7-4c05-b155-27506dc396b5",
   "metadata": {},
   "outputs": [
    {
     "name": "stdout",
     "output_type": "stream",
     "text": [
      "(9,)\n",
      "9\n",
      "Bentuk dari mat2D: (3, 4)\n",
      "Ukuran dari mat2D: 12\n"
     ]
    }
   ],
   "source": [
    "print(mat1D.shape)\n",
    "print(mat1D.size)\n",
    "print(f\"Bentuk dari mat2D: {mat2D.shape}\")\n",
    "print(f\"Ukuran dari mat2D: {mat2D.size}\")"
   ]
  },
  {
   "cell_type": "code",
   "execution_count": 89,
   "id": "fba5ce61-f545-4b32-b7dc-191edbe1ff35",
   "metadata": {},
   "outputs": [],
   "source": [
    "#Matriks Spesial\n",
    "mZero = np.zeros([4,4])\n",
    "mOne = np.ones([4,4])\n",
    "mIdentity = np.eye(4)\n",
    "mFull = np.full((4,4),7)\n",
    "mRandom1D = np.random.rand(5)\n",
    "mRandom2D = np.random.rand(3,4)\n",
    "mRandom1DInt = np.random.randint(1,10,size=8)\n",
    "mRandom2DInt = np.random.randint(1,10,size=(3,4))"
   ]
  },
  {
   "cell_type": "code",
   "execution_count": 91,
   "id": "10a8941e-8a74-4f0c-bb40-a3c94c970a01",
   "metadata": {},
   "outputs": [
    {
     "name": "stdout",
     "output_type": "stream",
     "text": [
      "Matrix Zero:\n",
      "[[0. 0. 0. 0.]\n",
      " [0. 0. 0. 0.]\n",
      " [0. 0. 0. 0.]\n",
      " [0. 0. 0. 0.]]\n",
      "Matrix One:\n",
      "[[1. 1. 1. 1.]\n",
      " [1. 1. 1. 1.]\n",
      " [1. 1. 1. 1.]\n",
      " [1. 1. 1. 1.]]\n",
      "Matrix Identity:\n",
      "[[1. 0. 0. 0.]\n",
      " [0. 1. 0. 0.]\n",
      " [0. 0. 1. 0.]\n",
      " [0. 0. 0. 1.]]\n",
      "Matrix Full:\n",
      "[[7 7 7 7]\n",
      " [7 7 7 7]\n",
      " [7 7 7 7]\n",
      " [7 7 7 7]]\n",
      "Matrix Random 1D:\n",
      "[0.0114261  0.86889868 0.35930037 0.01856445 0.62870753]\n",
      "Matrix Random 2D:\n",
      "[[0.33817301 0.05915884 0.21617227 0.5945244 ]\n",
      " [0.37292988 0.37824661 0.18992116 0.80697662]\n",
      " [0.76330791 0.36233025 0.84059376 0.73057818]]\n",
      "Matrix Integer 1D:\n",
      "[4 3 3 3 5 6 4 8]\n",
      "Matrix Integer 2D:\n",
      "[[7 8 9 1]\n",
      " [1 7 9 2]\n",
      " [7 1 6 6]]\n"
     ]
    }
   ],
   "source": [
    "print(f\"Matrix Zero:\\n{mZero}\")\n",
    "print(f\"Matrix One:\\n{mOne}\")\n",
    "print(f\"Matrix Identity:\\n{mIdentity}\")\n",
    "print(f\"Matrix Full:\\n{mFull}\")\n",
    "print(f\"Matrix Random 1D:\\n{mRandom1D}\")\n",
    "print(f\"Matrix Random 2D:\\n{mRandom2D}\")\n",
    "print(f\"Matrix Integer 1D:\\n{mRandom1DInt}\")\n",
    "print(f\"Matrix Integer 2D:\\n{mRandom2DInt}\")"
   ]
  },
  {
   "cell_type": "code",
   "execution_count": 105,
   "id": "b417a1c2-8cc4-463d-92f9-d323f3822222",
   "metadata": {},
   "outputs": [
    {
     "name": "stdout",
     "output_type": "stream",
     "text": [
      "Hasil penjumlahan x dan y: [ 7  9 11 13 15]\n",
      "Hasil perkalian dot product: 130\n"
     ]
    }
   ],
   "source": [
    "#Operasi Aritmatika\n",
    "x = np.array([1,2,3,4,5])\n",
    "y = np.array([6,7,8,9,10])\n",
    "\n",
    "r1 = np.add(x,y) #add ditambah\n",
    "r2 = np.dot(x,y) #dot dikali dengan cara dot product\n",
    "\n",
    "print(f\"Hasil penjumlahan x dan y: {r1}\")\n",
    "print(f\"Hasil perkalian dot product: {r2}\")"
   ]
  },
  {
   "cell_type": "code",
   "execution_count": 119,
   "id": "493d6dca-a5e2-4d5a-9152-797ea24f7618",
   "metadata": {},
   "outputs": [
    {
     "name": "stdout",
     "output_type": "stream",
     "text": [
      "Nilai programming: [100  90  90  50  80  60  50  85]\n",
      "Nilai terkecil: 50\n",
      "Nilai terbesar: 100\n",
      "Nilai rata-rata: 75.625\n",
      "Nilai total: 605\n",
      "Nilai Standar Deviasi: 18.275239396516806\n",
      "Nilai Tengah: 82.5\n"
     ]
    }
   ],
   "source": [
    "#Fungsi dasar statistik\n",
    "nilaiProgramming = np.array([100,90,90,50,80,60,50,85])\n",
    "print(f\"Nilai programming: {nilaiProgramming}\")\n",
    "print(f\"Nilai terkecil: {np.min(nilaiProgramming)}\")\n",
    "print(f\"Nilai terbesar: {np.max(nilaiProgramming)}\")\n",
    "print(f\"Nilai rata-rata: {np.mean(nilaiProgramming)}\")\n",
    "print(f\"Nilai total: {np.sum(nilaiProgramming)}\")\n",
    "print(f\"Nilai Standar Deviasi: {np.std(nilaiProgramming)}\")\n",
    "print(f\"Nilai Tengah: {np.median(nilaiProgramming)}\")"
   ]
  },
  {
   "cell_type": "code",
   "execution_count": 131,
   "id": "fdf1c6a0-2d68-4606-8812-c1cd3020f3fe",
   "metadata": {},
   "outputs": [
    {
     "name": "stdout",
     "output_type": "stream",
     "text": [
      "Matriks X:\n",
      "[[ 1  2  3  4  5]\n",
      " [ 6  7  8  9 10]]\n",
      "Matriks X diubah bentuknya menjadi:\n",
      "[[ 1]\n",
      " [ 2]\n",
      " [ 3]\n",
      " [ 4]\n",
      " [ 5]\n",
      " [ 6]\n",
      " [ 7]\n",
      " [ 8]\n",
      " [ 9]\n",
      " [10]]\n",
      "Matriks X diubah menjadi benruk flat:\n",
      "[ 1  2  3  4  5  6  7  8  9 10]\n"
     ]
    }
   ],
   "source": [
    "#Operasi Bentuk\n",
    "matX = np.array([[1,2,3,4,5],[6,7,8,9,10]])\n",
    "print(f\"Matriks X:\\n{matX}\")\n",
    "print(f\"Matriks X diubah bentuknya menjadi:\\n{matX.reshape(10,1)}\") #yang kiri (10) kebawah, yang kanan (1) kekanan\n",
    "print(f\"Matriks X diubah menjadi benruk flat:\\n{matX.flatten()}\")"
   ]
  },
  {
   "cell_type": "code",
   "execution_count": 141,
   "id": "dfda90f7-f82e-4c94-b051-bd969fb33d5f",
   "metadata": {},
   "outputs": [
    {
     "name": "stdout",
     "output_type": "stream",
     "text": [
      "Daftar nilai yang lulus:[100  90  90  80  60  85]\n",
      "Jumlah yang lulus:6\n"
     ]
    }
   ],
   "source": [
    "#Filtering\n",
    "lulus = nilaiProgramming[nilaiProgramming > 50]\n",
    "\n",
    "print(f\"Daftar nilai yang lulus:{lulus}\")\n",
    "print(f\"Jumlah yang lulus:{lulus.size}\")"
   ]
  },
  {
   "cell_type": "markdown",
   "id": "cbb405c9-a7bc-496c-9157-42ce21a8cb9c",
   "metadata": {},
   "source": [
    "<b1>Contoh Kasus</b1>\n",
    "bualah contoh dataset sebanyak 10.000 untuk proses klasifikasi nasabah kartu kredit\n",
    "<ol>\n",
    "    <li>Usia: 17 - 60</li>\n",
    "    <li>Gender: L/P</li>\n",
    "    <li>Gaji: 1jt - 3jt, 3jt - 5jt, 5jt - 10jt</li>\n",
    "    <li>Jumlah anak: 0 - 6</li>\n",
    "</ol>"
   ]
  },
  {
   "cell_type": "code",
   "execution_count": 196,
   "id": "f63a6e13-7d7e-49e6-9830-f39a7a61bd76",
   "metadata": {},
   "outputs": [
    {
     "name": "stdout",
     "output_type": "stream",
     "text": [
      "<class 'pandas.core.frame.DataFrame'>\n",
      "RangeIndex: 10000 entries, 0 to 9999\n",
      "Data columns (total 4 columns):\n",
      " #   Column       Non-Null Count  Dtype \n",
      "---  ------       --------------  ----- \n",
      " 0   Usia         10000 non-null  int32 \n",
      " 1   Gender       10000 non-null  object\n",
      " 2   Gaji         10000 non-null  object\n",
      " 3   Jumlah-Anak  10000 non-null  int32 \n",
      "dtypes: int32(2), object(2)\n",
      "memory usage: 234.5+ KB\n",
      "None\n",
      "   Usia Gender    Gaji  Jumlah-Anak\n",
      "0    45      L  5-10jt            3\n",
      "1    51      L   3-5jt            3\n",
      "2    23      L   1-3jt            4\n",
      "3    37      L   1-3jt            2\n",
      "4    56      L   3-5jt            3\n",
      "(10000, 4)\n",
      "40000\n"
     ]
    }
   ],
   "source": [
    "import numpy as np\n",
    "import pandas as pd\n",
    "\n",
    "n_data = 10000\n",
    "usia = np.random.randint(17,61,size=n_data)\n",
    "gender = np.random.choice(['L','P'],size=n_data)\n",
    "gaji = np.random.choice(['1-3jt','3-5jt','5-10jt'],size=n_data)\n",
    "anak = np.random.randint(0,7,size=n_data)\n",
    "\n",
    "df = pd.DataFrame({\n",
    "    'Usia' : usia,\n",
    "    'Gender' : gender,\n",
    "    'Gaji' : gaji,\n",
    "    'Jumlah-Anak' : anak\n",
    "})\n",
    "\n",
    "df.to_csv('data_calon_nasabah.csv')\n",
    "\n",
    "print(df.info())\n",
    "print(df.head())\n",
    "print(df.shape)\n",
    "print(df.size)"
   ]
  },
  {
   "cell_type": "code",
   "execution_count": 204,
   "id": "ddb30060-6152-44ee-95f5-8ca07981aad3",
   "metadata": {},
   "outputs": [
    {
     "name": "stdout",
     "output_type": "stream",
     "text": [
      "Usia calon nasabah yang paling muda adalah:17\n",
      "Usia calon nasabah yang paling muda adalah:60\n",
      "Jumlah laki-lakinya adalah: 4965.0\n",
      "Jumlah laki-lakinya adalah: 4965\n",
      "Jumlah perempuannya adalah: 5035.0\n",
      "Jumlah perempuannya adalah: 5035\n"
     ]
    }
   ],
   "source": [
    "#1. Tampilkan usia calon nasabah yang paling muda\n",
    "#2. Tampilkan usia calon nasbaha yang paling tua\n",
    "#3. Tampilkan gaji rata-rata\n",
    "#4. Tampilkan berapa jumlah laki-laki\n",
    "#5. Tampilkan berapa jumlah perempuan\n",
    "\n",
    "print(f\"Usia calon nasabah yang paling muda adalah:{df['Usia'].min()}\") #Nomor 1\n",
    "\n",
    "print(f\"Usia calon nasabah yang paling muda adalah:{df['Usia'].max()}\") #Nomor 2\n",
    "\n",
    "#rata-rata tidak bisa karena tipe gaji adalah \"KATEGORI\" Nomor 3\n",
    "\n",
    "laki = df[df['Gender'] == 'L']\n",
    "print(f\"Jumlah laki-lakinya adalah: {laki.size/4}\")\n",
    "print(f\"Jumlah laki-lakinya adalah: {laki['Gender'].size}\") #Nomor 4\n",
    "\n",
    "cewe = df[df['Gender'] == 'P']\n",
    "print(f\"Jumlah perempuannya adalah: {cewe.size/4}\")\n",
    "print(f\"Jumlah perempuannya adalah: {cewe['Gender'].size}\") #Nomor 5"
   ]
  }
 ],
 "metadata": {
  "kernelspec": {
   "display_name": "Python [conda env:base] *",
   "language": "python",
   "name": "conda-base-py"
  },
  "language_info": {
   "codemirror_mode": {
    "name": "ipython",
    "version": 3
   },
   "file_extension": ".py",
   "mimetype": "text/x-python",
   "name": "python",
   "nbconvert_exporter": "python",
   "pygments_lexer": "ipython3",
   "version": "3.12.7"
  }
 },
 "nbformat": 4,
 "nbformat_minor": 5
}
