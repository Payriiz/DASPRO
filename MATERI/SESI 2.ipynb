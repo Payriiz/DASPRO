{
 "cells": [
  {
   "cell_type": "markdown",
   "id": "89b15593-e003-499b-80c1-8d1d24ee7fd7",
   "metadata": {},
   "source": [
    "<center>\n",
    "    <img src=\"https://upload.wikimedia.org/wikipedia/commons/1/13/Logo_Universitas_Nusa_Putra.png\" width=\"200\">\n",
    "</center>\n",
    "<hr>\n",
    "<br>\n",
    "<b>Cell</b> Di jupyter ada 2 jenis\n",
    "<ol>\n",
    "    <li>Markdown - (M)</li>\n",
    "    <li>Code - (Y)</li>\n",
    "</ol>"
   ]
  },
  {
   "cell_type": "markdown",
   "id": "3b410ea0-57e9-434e-bc29-67d9bf4f46d7",
   "metadata": {},
   "source": [
    "CARA MENAMBAHKAN CELL ADA 2:\n",
    "<ul>\n",
    "    <li>A (Above) - diatas Cell</li>\n",
    "    <li>B (Below) - dibawah Cell</li>\n",
    "</ul>"
   ]
  },
  {
   "cell_type": "markdown",
   "id": "401db145-5d3f-45c4-8627-28959e574550",
   "metadata": {},
   "source": [
    "<table>\n",
    "    <tr>\n",
    "        <td>NIM</td>\n",
    "        <td>:</td>\n",
    "        <td>20240040126</td>\n",
    "    </tr>\n",
    "    <tr>\n",
    "        <td>NAMA</td>\n",
    "        <td>:</td>\n",
    "        <td>IBNU FARIZ FAUZAN HAMZAH</td>\n",
    "    </tr>\n",
    "    <tr>\n",
    "        <td>KELAS</td>\n",
    "        <td>:</td>\n",
    "        <td>TI24G</td>\n",
    "    </tr>\n",
    "</table>"
   ]
  },
  {
   "cell_type": "code",
   "execution_count": 38,
   "id": "5486b494-8b98-483d-b369-437aa7ac85eb",
   "metadata": {},
   "outputs": [
    {
     "name": "stdout",
     "output_type": "stream",
     "text": [
      "OKE GAS OKE GAS\n",
      "AYOK KITA NGANTRI GAS\n"
     ]
    },
    {
     "data": {
      "text/plain": [
       "180"
      ]
     },
     "execution_count": 38,
     "metadata": {},
     "output_type": "execute_result"
    }
   ],
   "source": [
    "print(\"OKE GAS OKE GAS\")\n",
    "print(\"AYOK KITA NGANTRI GAS\")\n",
    "\n",
    "number = 90\n",
    "number + 90"
   ]
  }
 ],
 "metadata": {
  "kernelspec": {
   "display_name": "Python [conda env:base] *",
   "language": "python",
   "name": "conda-base-py"
  },
  "language_info": {
   "codemirror_mode": {
    "name": "ipython",
    "version": 3
   },
   "file_extension": ".py",
   "mimetype": "text/x-python",
   "name": "python",
   "nbconvert_exporter": "python",
   "pygments_lexer": "ipython3",
   "version": "3.12.7"
  }
 },
 "nbformat": 4,
 "nbformat_minor": 5
}
