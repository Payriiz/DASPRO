{
 "cells": [
  {
   "cell_type": "markdown",
   "id": "49fc1233-217f-4c14-9a7f-95f37765f90b",
   "metadata": {},
   "source": [
    "<h1>PERULANGAN</h1>"
   ]
  },
  {
   "cell_type": "code",
   "execution_count": 23,
   "id": "94123714-c1bb-4878-8274-44c912c038e9",
   "metadata": {},
   "outputs": [
    {
     "name": "stdout",
     "output_type": "stream",
     "text": [
      "Buah: Mango\n",
      "Buah: Watermelon\n",
      "Buah: Pineaplle\n",
      "Buah: Avocado\n",
      "Sudah habeeees\n"
     ]
    }
   ],
   "source": [
    "#Looping Collection\n",
    "fruits = [\"Mango\",\"Watermelon\",\"Pineaplle\",\"Avocado\"]\n",
    "for fruit in fruits:\n",
    "    print(f\"Buah: {fruit}\")\n",
    "print(\"Sudah habeeees\")"
   ]
  },
  {
   "cell_type": "code",
   "execution_count": 69,
   "id": "e247d334-5705-4270-bb94-4e9e5ea9e4ef",
   "metadata": {},
   "outputs": [
    {
     "name": "stdout",
     "output_type": "stream",
     "text": [
      "Lulus: 3\n",
      "Tidak lulus: 3\n",
      "Rata-ratanya adalah: 74.16666666666667\n"
     ]
    }
   ],
   "source": [
    "#Hitunglah rata-rata dari nilai pemrograman TI24G\n",
    "nilaiPython  = [90,100,85,60,60,50]\n",
    "\n",
    "#1. Menghitung jumlah total dari nilai - didalam looping\n",
    "#2. Membagi jumlah data - diluar looping\n",
    "#3. Hitunglah jumlah mahasiswa yang lulus >= 70\n",
    "#4. Hitunglah jumlah mahasiswa yang tidak lulus\n",
    "\n",
    "lulus = 0\n",
    "total = 0\n",
    "for jumlah in nilaiPython:\n",
    "    total = total + jumlah\n",
    "    if jumlah >= 70:\n",
    "        lulus += 1\n",
    "rataRata = total / len(nilaiPython)\n",
    "tidaklulus = len(nilaiPython) - lulus\n",
    "print(f\"Lulus: {lulus}\")\n",
    "print(f\"Tidak lulus: {tidaklulus}\")\n",
    "print(f\"Rata-ratanya adalah: {rataRata}\")"
   ]
  },
  {
   "cell_type": "code",
   "execution_count": 85,
   "id": "e6b80e52-7759-4b53-98db-f05f6e4b0ce8",
   "metadata": {},
   "outputs": [
    {
     "name": "stdin",
     "output_type": "stream",
     "text": [
      "ISIKAN KALIMAT:  ANJAY MABAR\n"
     ]
    },
    {
     "name": "stdout",
     "output_type": "stream",
     "text": [
      "BUKAN HURUF VOKAL: -3\n",
      "JUMLAH HURUF VOKALNYA ADA: 4\n"
     ]
    }
   ],
   "source": [
    "#Menghitung jumlah huruf vokal\n",
    "total = 0\n",
    "bukan = 0\n",
    "vokal = ['a','i','u','e','o']\n",
    "kalimat = input(\"ISIKAN KALIMAT: \")\n",
    "for char in kecil:\n",
    "    if char.lower() in vokal:\n",
    "        total += 1\n",
    "bukan = len(char) - total\n",
    "print(f\"BUKAN HURUF VOKAL: {bukan}\") #SALAH GEYZ\n",
    "print(f\"JUMLAH HURUF VOKALNYA ADA: {total}\")"
   ]
  },
  {
   "cell_type": "code",
   "execution_count": 93,
   "id": "f5b21db4-e37f-42e6-99d6-c4f5cabba583",
   "metadata": {},
   "outputs": [
    {
     "name": "stdout",
     "output_type": "stream",
     "text": [
      "[100, 400, 900, 1600, 2500]\n",
      "['LULUS', 'LULUS', 'LULUS', 'TIDAK', 'TIDAK', 'TIDAK']\n"
     ]
    }
   ],
   "source": [
    "#list comprehension\n",
    "data = [10,20,30,40,50]\n",
    "square = [x**2 for x in data]\n",
    "print(square)\n",
    "\n",
    "nilaiPython  = [90,100,85,60,60,50]\n",
    "passExam = ['LULUS' if x >= 70 else 'TIDAK' for x in nilaiPython]\n",
    "print(passExam)"
   ]
  },
  {
   "cell_type": "code",
   "execution_count": 99,
   "id": "da34a029-3eb3-4122-94fc-5c38dc623c04",
   "metadata": {},
   "outputs": [
    {
     "name": "stdout",
     "output_type": "stream",
     "text": [
      "0 : Jan\n",
      "1 : Feb\n",
      "2 : Mar\n",
      "3 : Apr\n",
      "4 : May\n",
      "5 : Jun\n",
      "6 : Jul\n",
      "7 : Aug\n"
     ]
    }
   ],
   "source": [
    "#Enumerate\n",
    "month = [\"Jan\",\"Feb\",\"Mar\",\"Apr\",\"May\",\"Jun\",\"Jul\",\"Aug\"]\n",
    "for index,month in enumerate(month):\n",
    "    print(f\"{index} : {month}\")"
   ]
  },
  {
   "cell_type": "code",
   "execution_count": 119,
   "id": "78a487c9-d749-4908-8800-befd1210cc45",
   "metadata": {},
   "outputs": [
    {
     "name": "stdout",
     "output_type": "stream",
     "text": [
      "JUMLAH LAKI-LAKI: 4\n",
      "JUMLAH CEWE: 1\n",
      "BANGKU KOSONG: 1\n"
     ]
    }
   ],
   "source": [
    "#Menghitung berapa jumlah laki-laki dan perempuan pada tempat duduk di bioskop\n",
    "chairs = [\"L\",\"P\",\"L\",\"L\",\"\",\"L\"]\n",
    "cowo = 0\n",
    "kosong = 0\n",
    "perempuan = 0\n",
    "for banyak in chairs:\n",
    "    if banyak == \"L\":\n",
    "        cowo += 1\n",
    "    elif banyak == \"\":\n",
    "        kosong += 1\n",
    "perempuan = len(chairs) - cowo - kosong\n",
    "print(f\"JUMLAH LAKI-LAKI: {cowo}\")\n",
    "print(f\"JUMLAH CEWE: {perempuan}\")\n",
    "print(f\"BANGKU KOSONG: {kosong}\")"
   ]
  },
  {
   "cell_type": "code",
   "execution_count": 177,
   "id": "4d3119c8-8d5c-4d89-afcb-32dda387c358",
   "metadata": {},
   "outputs": [
    {
     "name": "stdout",
     "output_type": "stream",
     "text": [
      "JUMLAH COUPLE: 4\n"
     ]
    }
   ],
   "source": [
    "bangku = [\"L\",\"\",\"P\",\"L\",\"P\",\"L\",\"P\",\"P\"]\n",
    "couple = 0\n",
    "for index,seat in enumerate(bangku):\n",
    "    if index < len(bangku) -1:\n",
    "        if bangku[index] != \"\" and bangku[index+1] != \"\":\n",
    "            if bangku[index] != bangku[index+1]:\n",
    "                couple += 1\n",
    "\n",
    "print(f\"JUMLAH COUPLE: {couple}\")"
   ]
  },
  {
   "cell_type": "code",
   "execution_count": 203,
   "id": "3e169e7d-332b-4738-8894-fcf1b0179a55",
   "metadata": {},
   "outputs": [
    {
     "name": "stdout",
     "output_type": "stream",
     "text": [
      "0 1 2 3 4 5 6 7 8 9 \n",
      "5 6 7 8 9 10 11 12 13 14 15 \n",
      "10 20 30 40 50 60 70 80 90 100 \n",
      "10 20 30 40 50 60 70 80 90 100 \n",
      "10 8 6 4 2 0 \n"
     ]
    }
   ],
   "source": [
    "#RANGE\n",
    "for i in range(10):\n",
    "    print(f\"{i} \",end = '')\n",
    "print()\n",
    "for j in range(5,16):\n",
    "    print(f\"{j} \",end = '')\n",
    "print()\n",
    "for k in range(1,11):\n",
    "    print(k * 10, \"\", end = '')\n",
    "print()\n",
    "for m in range(10,110,10):\n",
    "    print(m, \"\", end = '')\n",
    "print()\n",
    "for n in range(10,-2,-2):\n",
    "    print(n, \"\", end = '')\n",
    "print()"
   ]
  },
  {
   "cell_type": "code",
   "execution_count": 219,
   "id": "9c0ab0d1-26d9-4791-b680-1d716abbda72",
   "metadata": {},
   "outputs": [
    {
     "name": "stdin",
     "output_type": "stream",
     "text": [
      "MASUKKAN BILANGAN:  5\n"
     ]
    },
    {
     "name": "stdout",
     "output_type": "stream",
     "text": [
      "5!: 120\n"
     ]
    }
   ],
   "source": [
    "#Faktorial\n",
    "number = int(input(\"MASUKKAN BILANGAN: \"))\n",
    "total = 1\n",
    "for i in range (1,number+1):\n",
    "    total *= i\n",
    "print(f\"{number}!: {total}\")"
   ]
  },
  {
   "cell_type": "code",
   "execution_count": 233,
   "id": "0e144869-c30f-4772-982f-8a6f4bee8f26",
   "metadata": {},
   "outputs": [
    {
     "name": "stdin",
     "output_type": "stream",
     "text": [
      "MASUKKAN BILANGAN:  4\n"
     ]
    },
    {
     "name": "stdout",
     "output_type": "stream",
     "text": [
      "4 adalah bukan bilangan prima\n"
     ]
    }
   ],
   "source": [
    "#Cek bilangan prima atau bukan\n",
    "number = int(input(\"MASUKKAN BILANGAN: \"))\n",
    "faktor = 0\n",
    "for i in range(1, number+1):\n",
    "    if number % i == 0:\n",
    "        faktor +=1\n",
    "if faktor == 2:\n",
    "    print(f\"{number} adalah Bilangan Prima\")\n",
    "else:\n",
    "    print(f\"{number} adalah bukan bilangan prima\")"
   ]
  },
  {
   "cell_type": "code",
   "execution_count": 237,
   "id": "749341e3-ad5f-4d6a-bcac-11b8cc759fdc",
   "metadata": {},
   "outputs": [
    {
     "name": "stdout",
     "output_type": "stream",
     "text": [
      "1 -2 3 -4 5 -6 7 -8 9 -10 "
     ]
    }
   ],
   "source": [
    "# 1 -2 3 -4 5 -6 7 -8 9 -10\n",
    "# 1/2! + -2/3! + 3/4! + -4/5! = ? -> CARI DIRUMAH!\n",
    "sign = 1\n",
    "for i in range(1,11):\n",
    "    result = sign * i\n",
    "    print(result, \"\", end='')\n",
    "    sign = sign * -1"
   ]
  },
  {
   "cell_type": "markdown",
   "id": "496490ff-85c8-4639-8613-dc904e48590e",
   "metadata": {},
   "source": [
    "<h1>LIBURAN KERJAKAN HACKERRANK</h1>"
   ]
  }
 ],
 "metadata": {
  "kernelspec": {
   "display_name": "Python [conda env:base] *",
   "language": "python",
   "name": "conda-base-py"
  },
  "language_info": {
   "codemirror_mode": {
    "name": "ipython",
    "version": 3
   },
   "file_extension": ".py",
   "mimetype": "text/x-python",
   "name": "python",
   "nbconvert_exporter": "python",
   "pygments_lexer": "ipython3",
   "version": "3.12.7"
  }
 },
 "nbformat": 4,
 "nbformat_minor": 5
}
