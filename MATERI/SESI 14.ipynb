{
 "cells": [
  {
   "cell_type": "code",
   "execution_count": null,
   "id": "4d82877f-4757-40de-baaf-0710a10ec184",
   "metadata": {},
   "outputs": [],
   "source": [
    "try: \n",
    "    bil1 = int(input(\"MASUKKAN ANGKA KE-1: \"))\n",
    "    bil2 = int(input(\"MASUKKAN ANGKA KE-2: \"))\n",
    "    hasil = bil1 / bil2\n",
    "except ValueError:\n",
    "    print(\"TIDAK BOLEH MENGGUNAKAN YANG LAIN SELAIN ANGKA\")\n",
    "except ZeroDivisionError:   #ZeroDivisionError -> tergantung dengan error apa yang muncul\n",
    "    print(\"PEMBAGIAN NOL TIDAK BISA!\")\n",
    "else:\n",
    "    print(f\"HASIL PEMBAGIAN DARI {bil1} dengan {bil2} adalah {hasil}\")\n",
    "finally:\n",
    "    print(\"MATUR THANK YOU\")"
   ]
  },
  {
   "cell_type": "code",
   "execution_count": null,
   "id": "5b5f3c5d-df23-49e6-a275-3264703aea09",
   "metadata": {},
   "outputs": [],
   "source": [
    "try: \n",
    "    bil1 = int(input(\"MASUKKAN ANGKA KE-1: \"))\n",
    "    bil2 = int(input(\"MASUKKAN ANGKA KE-2: \"))\n",
    "    hasil = bil1 / bil2\n",
    "except (ValueError,ZeroDivisionError) as anjay:\n",
    "    print(anjay)\n",
    "else:\n",
    "    print(f\"HASIL PEMBAGIAN DARI {bil1} dengan {bil2} adalah {hasil}\")\n",
    "finally:\n",
    "    print(\"MATUR THANK YOU\")"
   ]
  },
  {
   "cell_type": "code",
   "execution_count": 36,
   "id": "b660ab1a-f428-486b-8b09-61f394ae0d77",
   "metadata": {},
   "outputs": [
    {
     "name": "stdout",
     "output_type": "stream",
     "text": [
      "TIDAK ADA DALAM DATA\n",
      "PROGRAM SELESAI\n"
     ]
    }
   ],
   "source": [
    "#Key Error\n",
    "data = {\"nama\":\"Ibnu\", \"usia\" : 18, \"alamat\" : \"cibadak\"}\n",
    "try:\n",
    "    print(data[\"hobi\"])\n",
    "except KeyError:\n",
    "    print(\"TIDAK ADA DALAM DATA\")\n",
    "else:\n",
    "    print(\"DATA DITEMUKAN\")\n",
    "finally:\n",
    "    print(\"PROGRAM SELESAI\")"
   ]
  },
  {
   "cell_type": "code",
   "execution_count": 41,
   "id": "73afcc50-e009-46c8-be41-5882721ceb55",
   "metadata": {},
   "outputs": [
    {
     "name": "stdin",
     "output_type": "stream",
     "text": [
      "MASUKKAN BUAH:  ya\n"
     ]
    },
    {
     "name": "stdout",
     "output_type": "stream",
     "text": [
      "ya\n"
     ]
    }
   ],
   "source": [
    "#Index Error\n",
    "list = ['mangga', 'salak', 'lengkeng']\n",
    "try:\n",
    "    cari = input(\"MASUKKAN BUAH: \")\n",
    "except IndexError:\n",
    "    print(\"INDEX KEJAUHAN\")\n",
    "else:\n",
    "    print(cari)"
   ]
  },
  {
   "cell_type": "code",
   "execution_count": 43,
   "id": "a0c66c75-35b9-4a2f-a15e-e221190270ea",
   "metadata": {},
   "outputs": [
    {
     "name": "stdin",
     "output_type": "stream",
     "text": [
      "JUMLAH DATA YANG AKAN DI MASUKKAN 3\n",
      "MASUKKAN NAMA:  Ujang\n",
      "MASUKKAN NAMA:  Mamang\n",
      "MASUKKAN NAMA:  Cecep\n",
      "NOMOR URUT BERAPA YANG AKAN DITAMPILKAN:  2\n"
     ]
    },
    {
     "name": "stdout",
     "output_type": "stream",
     "text": [
      "Nama Siswa ke 2 : Mamang\n",
      "LOAD DATA SELESAI!\n"
     ]
    }
   ],
   "source": [
    "try:\n",
    "    jumlahData = int(input(\"JUMLAH DATA YANG AKAN DI MASUKKAN\"))\n",
    "    listNama = []\n",
    "    for i in range(0,jumlahData):\n",
    "        nama = input(\"MASUKKAN NAMA: \")\n",
    "        listNama.append(nama)\n",
    "    indeks = int(input(\"NOMOR URUT BERAPA YANG AKAN DITAMPILKAN: \"))\n",
    "except (ValueError, IndexError) as err:\n",
    "    print(err)\n",
    "else:\n",
    "     print(f\"Nama Siswa ke {indeks} : {listNama[indeks-1]}\")\n",
    "finally:\n",
    "    print(\"LOAD DATA SELESAI!\")"
   ]
  },
  {
   "cell_type": "code",
   "execution_count": 50,
   "id": "a75bb3a8-8964-42b5-ab84-9bf2f0dc1086",
   "metadata": {},
   "outputs": [
    {
     "name": "stdout",
     "output_type": "stream",
     "text": [
      "FILM DEWASA KEDAH 18+\n",
      "PROGRAM NGGESAN\n"
     ]
    }
   ],
   "source": [
    "#Special Exception -> Own Exception\n",
    "\n",
    "class Umur(Exception):\n",
    "    pass\n",
    "\n",
    "def cekUmur(umur):\n",
    "    if(umur<=18):\n",
    "        raise Umur(\"FILM DEWASA KEDAH 18+\")\n",
    "\n",
    "try:\n",
    "    cekUmur(18)\n",
    "    print(\"WILUJENG SUMPING\")\n",
    "except Umur as us:\n",
    "    print(us)\n",
    "else:\n",
    "    print(\"SOK DIPILIH FILMNA BRO\")\n",
    "finally:\n",
    "    print(\"PROGRAM NGGESAN\")"
   ]
  },
  {
   "cell_type": "code",
   "execution_count": null,
   "id": "bea62b35-6955-4c88-abea-f061c15883c5",
   "metadata": {},
   "outputs": [],
   "source": [
    "#File Handling\n",
    "# open(nama_file,mode) -> file dengan tipe plain teks\n",
    "# mode -> a (append), r -> (read), w -> (write)\n",
    "\n",
    "f = open('data_calon_nasabah.csv','r')\n",
    "teks = f.read()\n",
    "print(teks)\n",
    "f.close()"
   ]
  },
  {
   "cell_type": "code",
   "execution_count": 60,
   "id": "78ddab48-9e2f-4e67-9f1d-176e3a85b25e",
   "metadata": {},
   "outputs": [
    {
     "name": "stdout",
     "output_type": "stream",
     "text": [
      "WILUJENG SUMPING SADDIL RAMDANI!!!\n",
      "WILUJENG SUMPING ALFEANDRA DEWANGGA!!!\n",
      "WILUJENG SUMPING CYRUS MARGONO!!!\n",
      "WILUJENG SUMPING SADDIL RAMDANI!!!\n",
      "WILUJENG SUMPING ALFEANDRA DEWANGGA!!!\n",
      "WILUJENG SUMPING CYRUS MARGONO!!!\n",
      "WILUJENG SUMPING WILLIAM BAROS!!!\n",
      "\n",
      "LOAD SELESAI!!!\n"
     ]
    }
   ],
   "source": [
    "try:\n",
    "    with open('data.txt','r') as f:\n",
    "        LIST = f.read()\n",
    "        #print(LIST)\n",
    "        #f.write(\"WILUJENG SUMPING SADDIL RAMDANI!!!\\n\")\n",
    "        #f.write(\"WILUJENG SUMPING ALFEANDRA DEWANGGA!!!\\n\")\n",
    "        #f.write(\"WILUJENG SUMPING CYRUS MARGONO!!!\\n\")\n",
    "        #f.write(\"WILUJENG SUMPING WILLIAM BAROS!!!\\n\")\n",
    "except FileNotFoundError:\n",
    "    print(\"FILE TIDAK ADA\")\n",
    "else:\n",
    "    print(LIST)\n",
    "finally:\n",
    "    print(\"LOAD SELESAI!!!\")"
   ]
  }
 ],
 "metadata": {
  "kernelspec": {
   "display_name": "Python [conda env:base] *",
   "language": "python",
   "name": "conda-base-py"
  },
  "language_info": {
   "codemirror_mode": {
    "name": "ipython",
    "version": 3
   },
   "file_extension": ".py",
   "mimetype": "text/x-python",
   "name": "python",
   "nbconvert_exporter": "python",
   "pygments_lexer": "ipython3",
   "version": "3.12.7"
  }
 },
 "nbformat": 4,
 "nbformat_minor": 5
}
