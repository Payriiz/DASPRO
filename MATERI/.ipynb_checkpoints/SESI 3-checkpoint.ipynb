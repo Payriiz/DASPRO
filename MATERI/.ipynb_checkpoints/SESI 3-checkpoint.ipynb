{
 "cells": [
  {
   "cell_type": "code",
   "execution_count": 169,
   "id": "6ed5d35c-536b-488f-b0c2-93e68b651e46",
   "metadata": {},
   "outputs": [
    {
     "name": "stdout",
     "output_type": "stream",
     "text": [
      "Nama           : Ibnu Fariz Fauzan Hamzah\n",
      "Umur           : 18\n",
      "Alamat         : Cibadak 7413412\n",
      "Nilai          : 87.74\n",
      "Status Menikah :  False\n"
     ]
    }
   ],
   "source": [
    "name= \"Ibnu Fariz Fauzan Hamzah\"\n",
    "age= 18\n",
    "address, province= \"Cibadak\", \"7413412\"\n",
    "scorePython= 87.74\n",
    "isMarried= False\n",
    "\n",
    "print(\"Nama           :\", name)\n",
    "print(\"Umur           :\", age)\n",
    "print(\"Alamat         :\", address, province)\n",
    "print(\"Nilai          :\", scorePython)\n",
    "print(\"Status Menikah : \", isMarried)"
   ]
  },
  {
   "cell_type": "code",
   "execution_count": 171,
   "id": "0de252e0-934d-4cbd-acde-403405c884ed",
   "metadata": {},
   "outputs": [
    {
     "name": "stdout",
     "output_type": "stream",
     "text": [
      "Tipe Data <name> <class 'str'>\n",
      "Tipe Data <age> <class 'int'>\n",
      "Tipe Data <address> <class 'str'>\n",
      "Tipe Data <province> <class 'str'>\n",
      "Tipe Data <scorePython> <class 'float'>\n",
      "Tipe Data <isMarried> <class 'bool'>\n"
     ]
    }
   ],
   "source": [
    "print(\"Tipe Data <name>\", type(name))\n",
    "print(\"Tipe Data <age>\", type(age))\n",
    "print(\"Tipe Data <address>\", type(address))\n",
    "print(\"Tipe Data <province>\", type(province))\n",
    "print(\"Tipe Data <scorePython>\", type(scorePython))\n",
    "print(\"Tipe Data <isMarried>\", type(isMarried))"
   ]
  },
  {
   "cell_type": "code",
   "execution_count": 173,
   "id": "d0f34ec7-d5e4-43b3-86da-45efc6d0e5a6",
   "metadata": {},
   "outputs": [
    {
     "name": "stdout",
     "output_type": "stream",
     "text": [
      "7413412-7413412.0-True\n",
      "18-18.0-True\n",
      "87.74-87-True\n",
      "0-0.0-False\n"
     ]
    }
   ],
   "source": [
    "#Casting atau konversi Tipe Data\n",
    "#Konversi dari String ke (int, float, bool)\n",
    "strToInt = int(province)\n",
    "strToFloat = float(province)\n",
    "strToBool = bool(province)\n",
    "print(strToInt,strToFloat,strToBool, sep=\"-\")\n",
    "\n",
    "#Konversi dari int ke (str, float, bool)\n",
    "intToStr = str(age)\n",
    "intToFloat = float(age)\n",
    "intToBool = bool(age)\n",
    "print(intToStr,intToFloat,intToBool, sep=\"-\")\n",
    "\n",
    "#Konversi dari float ke (str,int,bool)\n",
    "floatToStr = str(scorePython)\n",
    "floatToInt = int(scorePython)\n",
    "floatToBool = bool(scorePython)\n",
    "print(floatToStr,floatToInt,floatToBool, sep=\"-\")\n",
    "\n",
    "#Konversi dari bool ke (int,float,str)\n",
    "boolToInt = int(isMarried)\n",
    "boolToFloat = float(isMarried)\n",
    "boolToStr = str(isMarried)\n",
    "print(boolToInt,boolToFloat,boolToStr, sep=\"-\")"
   ]
  },
  {
   "cell_type": "code",
   "execution_count": 175,
   "id": "974acde1-0422-4175-97ac-6a680fcc1fea",
   "metadata": {},
   "outputs": [
    {
     "name": "stdout",
     "output_type": "stream",
     "text": [
      "Nilai Desimal     : 500\n",
      "Nilai Biner       : 10\n",
      "Nilai Octal       : 255\n",
      "Nilai Hexadecimal : 255\n",
      "==========================================\n",
      "Nilai Biner dari : 500 adalah : 0b111110100\n",
      "Nilai Octal dari : 500 adalah : 0o764\n",
      "Nilai Hexa dari  : 500 adalah : 0x1f4\n"
     ]
    }
   ],
   "source": [
    "desimal = 500\n",
    "biner = 0b1010\n",
    "octal = 0o377\n",
    "hexa = 0xff\n",
    "\n",
    "print(\"Nilai Desimal     :\", desimal)\n",
    "print(\"Nilai Biner       :\", biner)\n",
    "print(\"Nilai Octal       :\", octal)\n",
    "print(\"Nilai Hexadecimal :\", hexa)\n",
    "\n",
    "print(\"==========================================\")\n",
    "print(\"Nilai Biner dari :\",desimal,\"adalah :\", bin (desimal))\n",
    "print(\"Nilai Octal dari :\",desimal,\"adalah :\", oct (desimal))\n",
    "print(\"Nilai Hexa dari  :\",desimal,\"adalah :\", hex (desimal))"
   ]
  },
  {
   "cell_type": "code",
   "execution_count": 183,
   "id": "116098ff-96db-4c71-aaf9-d398f4b2dbf6",
   "metadata": {},
   "outputs": [
    {
     "name": "stdout",
     "output_type": "stream",
     "text": [
      "['Sukabumi', 'Bandung', 'Jakarta', 'Yogyakarta', 'Bogor']\n",
      "Sukabumi\n",
      "Bogor\n",
      "B\n",
      "r\n",
      "['Cibadak', 'Bandung', 'Jakarta', 'Yogyakarta', 'Bogor']\n",
      "===================================\n",
      "('Ibnu', 'Apay', 'Pais')\n",
      "Apay\n",
      "===================================\n",
      "{'name': 'Apay', 'age': 18, 'address': {'street': 'Cibadak', 'number': 1919, 'province': 'Jawa Barat'}, 'isMarried': False, 'hobbies': ['Volleyball', 'Futsal']}\n",
      "Umur  :  18\n",
      "Alamat:  Jawa Barat\n",
      "Hobi  :  Volleyball\n",
      "===================================\n",
      "{'name': 'Apay', 'age': 18, 'address': {'street': 'Cibadak', 'number': 19, 'province': 'Jawa Barat'}, 'isMarried': False, 'hobbies': ['Volleyball', 'Football']}\n",
      "{'name': 'Ibnu', 'age': 19, 'address': {'street': 'Cibadak', 'number': 33, 'province': 'Jawa Barat'}, 'isMarried': True, 'hobbies': ['Swimming', 'Badminton']}\n",
      "Jawa Barat\n"
     ]
    }
   ],
   "source": [
    "#Tipe Data Collection\n",
    "#List\n",
    "cities = [\"Sukabumi\", \"Bandung\", \"Jakarta\", \"Yogyakarta\", \"Bogor\"]\n",
    "lengthCities = len(cities)\n",
    "print(cities) #semua\n",
    "print(cities[0]) #Index pertama\n",
    "print(cities[lengthCities-1]) #Index terakhir\n",
    "print(cities[lengthCities-1][0])  #Huruf index pertama dalam index terakhir atau index dalam index\n",
    "print(cities[lengthCities-1][len(cities[lengthCities-1])-1]) #Huruf index terakhir dalam index terakhir atau index dalam index, hitung index dari akhir\n",
    "cities[0] = \"Cibadak\" #Mengganti index 0\n",
    "print(cities)\n",
    "\n",
    "print(\"===================================\")\n",
    "\n",
    "#Tuple\n",
    "names = (\"Ibnu\",\"Apay\",\"Pais\")\n",
    "print(names)\n",
    "print(names[1]) #Memunculkan index 1\n",
    "\n",
    "print(\"===================================\")\n",
    "\n",
    "#Dictionary\n",
    "studentData ={\n",
    "    \"name\" : \"Apay\",\n",
    "    \"age\" : 18,\n",
    "    \"address\" : {\n",
    "        \"street\" : \"Cibadak\",\n",
    "        \"number\" : 1919,\n",
    "        \"province\" : \"Jawa Barat\"\n",
    "    },\n",
    "    \"isMarried\" : False,\n",
    "    \"hobbies\" : [\"Volleyball\", \"Futsal\"] \n",
    "}\n",
    "\n",
    "print(studentData)\n",
    "print(\"Umur  : \", studentData[\"age\"])\n",
    "print(\"Alamat: \",studentData[\"address\"][\"province\"])\n",
    "print(\"Hobi  : \",studentData[\"hobbies\"][0])\n",
    "\n",
    "print(\"===================================\")\n",
    "\n",
    "#List of Dictionary\n",
    "studentList = [\n",
    "    {\n",
    "    \"name\" : \"Apay\",\n",
    "    \"age\" : 18,\n",
    "    \"address\" : {\n",
    "        \"street\" : \"Cibadak\",\n",
    "        \"number\" : 19,\n",
    "        \"province\" : \"Jawa Barat\"\n",
    "    },\n",
    "    \"isMarried\" : False,\n",
    "    \"hobbies\" : [\"Volleyball\", \"Football\"]\n",
    "},\n",
    " {\n",
    "    \"name\" : \"Ibnu\",\n",
    "    \"age\" : 19,\n",
    "    \"address\" : {\n",
    "        \"street\" : \"Cibadak\",\n",
    "        \"number\" : 33,\n",
    "        \"province\" : \"Jawa Barat\"\n",
    "    },\n",
    "    \"isMarried\" : True,\n",
    "    \"hobbies\" : [\"Swimming\", \"Badminton\"]\n",
    "}\n",
    "]\n",
    "print(studentList[0])\n",
    "print(studentList[1])\n",
    "print(studentList[1][\"address\"][\"province\"])"
   ]
  },
  {
   "cell_type": "code",
   "execution_count": 195,
   "id": "31e7eb6a-e364-4f6b-b05b-c53e1d41349f",
   "metadata": {},
   "outputs": [
    {
     "name": "stdout",
     "output_type": "stream",
     "text": [
      "{'Name': 'Apay', 'Age': 18, 'Status': False}\n",
      "===================================\n",
      "{'Name': 'Ibnu', 'Address': 'Cibadak'}\n",
      "===================================\n",
      "{'Name': 'Pais', 'Type': 'Man'}\n",
      "===================================\n",
      "{'Name': 'Cat', 'Type': 'Mamalia'}\n",
      "===================================\n",
      "{'Vehicle': 'Motorcycle', 'Brand': 'Mio', 'cc': 125}\n"
     ]
    }
   ],
   "source": [
    "#Konversi dictionary\n",
    "\n",
    "list_list = [[\"Name\",\"Apay\"],[\"Age\",18],[\"Status\",False]]\n",
    "dictListStudent = dict(list_list)\n",
    "print(dictListStudent)\n",
    "\n",
    "print(\"===================================\")\n",
    "\n",
    "list_tuple = [(\"Name\",\"Ibnu\"),(\"Address\",\"Cibadak\")]\n",
    "dictTupleStudent = dict(list_tuple)\n",
    "print(dictTupleStudent)\n",
    "\n",
    "print(\"===================================\")\n",
    "\n",
    "tuple_list = ([\"Name\",\"Pais\"],[\"Type\",\"Man\"])\n",
    "dictTuplePeople = dict(tuple_list)\n",
    "print(dictTuplePeople)\n",
    "\n",
    "print(\"===================================\")\n",
    "\n",
    "tuple_tuple = ((\"Name\",\"Cat\"),(\"Type\",\"Mamalia\"))\n",
    "dictTupleAnimal = dict(tuple_tuple)\n",
    "print(dictTupleAnimal)\n",
    "\n",
    "print(\"===================================\")\n",
    "\n",
    "keys = [\"Vehicle\",\"Brand\",\"cc\"]\n",
    "values = [\"Motorcycle\",\"Mio\",125]\n",
    "motorcycle = dict(zip(keys,values))\n",
    "print(motorcycle)"
   ]
  }
 ],
 "metadata": {
  "kernelspec": {
   "display_name": "Python [conda env:base] *",
   "language": "python",
   "name": "conda-base-py"
  },
  "language_info": {
   "codemirror_mode": {
    "name": "ipython",
    "version": 3
   },
   "file_extension": ".py",
   "mimetype": "text/x-python",
   "name": "python",
   "nbconvert_exporter": "python",
   "pygments_lexer": "ipython3",
   "version": "3.12.7"
  }
 },
 "nbformat": 4,
 "nbformat_minor": 5
}
