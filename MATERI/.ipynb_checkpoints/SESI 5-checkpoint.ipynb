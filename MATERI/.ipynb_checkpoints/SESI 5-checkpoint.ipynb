{
 "cells": [
  {
   "cell_type": "code",
   "execution_count": 3,
   "id": "908330b3-2d58-4449-8df3-af6a4baac612",
   "metadata": {},
   "outputs": [
    {
     "name": "stdin",
     "output_type": "stream",
     "text": [
      "Isikan nama anda:  ajay\n"
     ]
    },
    {
     "name": "stdout",
     "output_type": "stream",
     "text": [
      "Selamat Datang ajay !!\n",
      "Selamat Datang Dina||Selamat Datang DianaSelamat Datang Dandi\n",
      "Anggur||Apel||Semangka\n"
     ]
    }
   ],
   "source": [
    "name = input(\"Isikan nama anda: \")\n",
    "print(\"Selamat Datang\",name,\"!!\")\n",
    "\n",
    "print(\"Selamat Datang Dina\",end='||')\n",
    "print(\"Selamat Datang Diana\",end='')\n",
    "print(\"Selamat Datang Dandi\")\n",
    "\n",
    "print(\"Anggur\",\"Apel\",\"Semangka\",sep='||')"
   ]
  },
  {
   "cell_type": "code",
   "execution_count": 7,
   "id": "9e32ca29-3183-41eb-ab02-68a455614f27",
   "metadata": {},
   "outputs": [
    {
     "name": "stdin",
     "output_type": "stream",
     "text": [
      "Isikan bilangan pertama:  2\n",
      "Isikan bilangan kedua:  2\n"
     ]
    },
    {
     "name": "stdout",
     "output_type": "stream",
     "text": [
      "Hasil penjumlahan 2 + 2 = 4\n"
     ]
    }
   ],
   "source": [
    "val1 = int(input(\"Isikan bilangan pertama: \"))\n",
    "val2 = int(input(\"Isikan bilangan kedua: \"))\n",
    "result = val1 + val2\n",
    "\n",
    "print(\"Hasil penjumlahan {} + {} = {}\".format(val1,val2,result))"
   ]
  },
  {
   "cell_type": "code",
   "execution_count": 21,
   "id": "5083a899-f283-452d-836c-f063160eec3e",
   "metadata": {},
   "outputs": [
    {
     "name": "stdin",
     "output_type": "stream",
     "text": [
      "Isikan nama awal:  Ibnu\n",
      "Isikan nama tengah:  Fariz\n",
      "Isikan nama akhir:  Fauzan\n"
     ]
    },
    {
     "name": "stdout",
     "output_type": "stream",
     "text": [
      "Nama lengkap: Fauzan Fauzan Fauzan\n",
      "Nama Lengkap: Ibnu Fariz Fauzan\n"
     ]
    }
   ],
   "source": [
    "#String indeks\n",
    "fName = input(\"Isikan nama awal: \")\n",
    "mName = input(\"Isikan nama tengah: \")\n",
    "lName = input(\"Isikan nama akhir: \")\n",
    "\n",
    "print(\"Nama lengkap: {2} {2} {2}\".format(fName,mName,lName))\n",
    "\n",
    "#Key\n",
    "print(\"Nama Lengkap: {depan} {tengah} {belakang}\".format(belakang='Fauzan',depan='Ibnu',tengah='Fariz'))"
   ]
  },
  {
   "cell_type": "code",
   "execution_count": 35,
   "id": "42655715-c43e-410b-817c-04edaed32669",
   "metadata": {},
   "outputs": [
    {
     "name": "stdin",
     "output_type": "stream",
     "text": [
      "Masukkan NIM anda:  katak\n"
     ]
    },
    {
     "name": "stdout",
     "output_type": "stream",
     "text": [
      "Tahun Masuk: kata\n",
      "Prodi Anda: Bukan Golongan Kami\n",
      "Nomor Urut: \n",
      "Angka NIM paling akhir: k\n",
      "NIM setelah di Reverse: katak\n"
     ]
    }
   ],
   "source": [
    "#Slicing\n",
    "nim = input(\"Masukkan NIM anda: \")\n",
    "\n",
    "tahun = nim[0:4]\n",
    "kodeprodi = nim[4:7]\n",
    "prodi = \"Teknik Informatika\" if kodeprodi==\"004\" else \"Bukan Golongan Kami\"\n",
    "urut = nim [7:]\n",
    "\n",
    "#Fstring\n",
    "print(f\"Tahun Masuk: {tahun}\")\n",
    "print(f\"Prodi Anda: {prodi}\")\n",
    "print(f\"Nomor Urut: {urut}\")\n",
    "\n",
    "print(f\"Angka NIM paling akhir: {nim[-1]}\")\n",
    "print(f\"NIM setelah di Reverse: {nim[::-1]}\")"
   ]
  },
  {
   "cell_type": "code",
   "execution_count": 51,
   "id": "58176ef1-6b6f-4398-8e57-9542f748a0f7",
   "metadata": {},
   "outputs": [
    {
     "name": "stdout",
     "output_type": "stream",
     "text": [
      "Belajar\n",
      "python\n",
      "itu\n",
      "mudah\n",
      "5\n"
     ]
    }
   ],
   "source": [
    "#fungsi string\n",
    "#split = untuk memisahkan string berdasarkan karakter\n",
    "kalimat = \"Belajar python itu mudah\"\n",
    "kata = kalimat.split(' ')\n",
    "print(kata[0])\n",
    "print(kata[1])\n",
    "print(kata[2])\n",
    "print(kata[3])\n",
    "\n",
    "#find = akan menghasilkan posisi/indeks dari sebuah karakter (jika ditemukan = akan bernilai -1 jika tidak ditemukan)\n",
    "platMotor = \"F2901QX\"\n",
    "print(platMotor.find('Q'))"
   ]
  },
  {
   "cell_type": "code",
   "execution_count": 59,
   "id": "843567e0-e5e1-48fd-a8a2-4fb76a90fffb",
   "metadata": {},
   "outputs": [
    {
     "name": "stdin",
     "output_type": "stream",
     "text": [
      "Masukkan Email:  wdj.adkwjnd@jdnak\n"
     ]
    },
    {
     "data": {
      "text/plain": [
       "'TIDAK VALID'"
      ]
     },
     "execution_count": 59,
     "metadata": {},
     "output_type": "execute_result"
    }
   ],
   "source": [
    "#validasi email\n",
    "email = input(\"Masukkan Email: \")\n",
    "dot = email.find('.')\n",
    "akeong = email.find('@')\n",
    "filter1 = \"VALID\" if dot != -1 and akeong != -1 else \"TIDAK VALID\"\n",
    "filter2 = \"VALID\" if akeong < dot else \"TIDAK VALID\"\n",
    "print(\"VALID\") if filter1 == \"VALID\" and filter2 == \"VALID\" else \"TIDAK VALID\""
   ]
  },
  {
   "cell_type": "code",
   "execution_count": 65,
   "id": "cea68132-e9a7-4ca7-969f-6a805044291b",
   "metadata": {},
   "outputs": [
    {
     "name": "stdin",
     "output_type": "stream",
     "text": [
      "Masukkan Email:  awdau@bifa.com\n"
     ]
    },
    {
     "name": "stdout",
     "output_type": "stream",
     "text": [
      "VALID\n"
     ]
    }
   ],
   "source": [
    "email = input(\"Masukkan Email: \")\n",
    "dot = email.find('.')\n",
    "akeong = email.find('@')\n",
    "result = \"VALID\" if akeong >= 0 and dot >=0 and akeong < dot else \"TIDAK VALID\"\n",
    "print(result)"
   ]
  },
  {
   "cell_type": "code",
   "execution_count": 96,
   "id": "671a8a49-4fb5-4371-883a-1566a1d654a1",
   "metadata": {},
   "outputs": [
    {
     "name": "stdout",
     "output_type": "stream",
     "text": [
      "0.7388916688355218\n",
      "31\n",
      "Feb\n",
      "['May', 5]\n"
     ]
    }
   ],
   "source": [
    "#RANDOM\n",
    "import random as r\n",
    "\n",
    "nilai = r.random() #bilangan float 0 - 1\n",
    "print(nilai)\n",
    "\n",
    "nilaiInt = r.randint(0,100) #Angka bulat\n",
    "print(nilaiInt)\n",
    "\n",
    "month = [\"Jan\",\"Feb\",\"March\",\"Apr\",\"May\",\"June\",\"July\",\"Agt\",\"Sept\",\"Oct\"]\n",
    "cMonth = r.choice(month)\n",
    "print(cMonth)\n",
    "\n",
    "day = [[\"Jan\",1],[\"Feb\",2],[\"March\",3],[\"Apr\",4],[\"May\",5]]\n",
    "cDay = r.choice(day)\n",
    "print(cDay)"
   ]
  },
  {
   "cell_type": "code",
   "execution_count": 222,
   "id": "27e7a728-1e87-4c98-9cde-b374abc46ffe",
   "metadata": {},
   "outputs": [
    {
     "name": "stdout",
     "output_type": "stream",
     "text": [
      "PILIH SOAL: \n",
      "1. Indonesia ke Inggris\n",
      "2. Inggris ke Indonesia\n"
     ]
    },
    {
     "name": "stdin",
     "output_type": "stream",
     "text": [
      "MASUKKAN PILIHAN:  1\n"
     ]
    },
    {
     "name": "stdout",
     "output_type": "stream",
     "text": [
      "Apa bahasa inggris dari makan ?\n"
     ]
    },
    {
     "name": "stdin",
     "output_type": "stream",
     "text": [
      "MASUKKAN JAWABAN:  eat\n"
     ]
    },
    {
     "name": "stdout",
     "output_type": "stream",
     "text": [
      "BENAR!\n"
     ]
    }
   ],
   "source": [
    "import random as r\n",
    "print(\"PILIH SOAL: \")\n",
    "print(\"1. Indonesia ke Inggris\")\n",
    "print(\"2. Inggris ke Indonesia\")\n",
    "pilihan = input(\"MASUKKAN PILIHAN: \")\n",
    "kamus = [[\"makan\",\"eat\"],[\"minum\",\"drink\"],[\"mobil\",\"car\"],[\"sepeda\",\"bike\"]]\n",
    "cKamus = r.choice(kamus)\n",
    "if pilihan == \"1\" :\n",
    "    print(\"Apa bahasa inggris dari\",cKamus[0],\"?\")\n",
    "    jawaban = input(\"MASUKKAN JAWABAN: \")\n",
    "    inputkecil = jawaban.lower()\n",
    "    print(\"BENAR!\") if inputkecil == cKamus [1] else print(\"SALAH!\")\n",
    "elif pilihan == \"2\" : \n",
    "    print(\"Apa bahasa indonesia dari\",cKamus[1],\"?\")\n",
    "    jawaban = input(\"MASUKKAN JAWABAN: \")\n",
    "    inputkecil = jawaban.lower()\n",
    "    print(\"BENAR!\") if inputkecil == cKamus [0] else print(\"SALAH!\")"
   ]
  }
 ],
 "metadata": {
  "kernelspec": {
   "display_name": "Python [conda env:base] *",
   "language": "python",
   "name": "conda-base-py"
  },
  "language_info": {
   "codemirror_mode": {
    "name": "ipython",
    "version": 3
   },
   "file_extension": ".py",
   "mimetype": "text/x-python",
   "name": "python",
   "nbconvert_exporter": "python",
   "pygments_lexer": "ipython3",
   "version": "3.12.7"
  }
 },
 "nbformat": 4,
 "nbformat_minor": 5
}
