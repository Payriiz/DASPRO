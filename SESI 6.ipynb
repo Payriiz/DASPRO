{
 "cells": [
  {
   "cell_type": "code",
   "execution_count": 20,
   "id": "ec71f47f-1512-4121-937a-1977c16db4f7",
   "metadata": {},
   "outputs": [
    {
     "name": "stdin",
     "output_type": "stream",
     "text": [
      "MASUKKAN UMUR:  -1\n"
     ]
    },
    {
     "name": "stdout",
     "output_type": "stream",
     "text": [
      "Kategori: TIDAK ADA UMUR SEGITU\n"
     ]
    }
   ],
   "source": [
    "usia = int(input(\"MASUKKAN UMUR: \"))\n",
    "if usia >= 60:\n",
    "    kategori = \"Lansia\"\n",
    "elif usia >= 18:\n",
    "    kategori = \"Dewasa\"\n",
    "elif usia >= 13:\n",
    "    kategori = \"Remaja\"\n",
    "elif usia >= 0:\n",
    "    kategori = \"Anak-anak\"\n",
    "else:\n",
    "    kategori = \"TIDAK ADA UMUR SEGITU\"\n",
    "\n",
    "print(f\"Kategori: {kategori}\")"
   ]
  },
  {
   "cell_type": "code",
   "execution_count": 40,
   "id": "69771bbd-6978-440a-8fc7-9d06073d899c",
   "metadata": {},
   "outputs": [
    {
     "name": "stdin",
     "output_type": "stream",
     "text": [
      "Masukkan Umur Pengunjung:  0\n",
      "Masukkan Umur Pengunjung:  9\n",
      "Masukkan Umur Pengunjung:  8\n"
     ]
    },
    {
     "name": "stdout",
     "output_type": "stream",
     "text": [
      "TIKET 1: Anak-anak, HARGA: 10000\n",
      "TIKET 2: Anak-anak, HARGA: 10000\n",
      "TIKET 3: Anak-anak, HARGA: 10000\n",
      "=============================================\n",
      "TOTALNYA SEMUA: 30000\n"
     ]
    }
   ],
   "source": [
    "tiket1 = int(input(\"Masukkan Umur Pengunjung: \"))\n",
    "tiket2 = int(input(\"Masukkan Umur Pengunjung: \"))\n",
    "tiket3 = int(input(\"Masukkan Umur Pengunjung: \"))\n",
    "total = 0\n",
    "\n",
    "if tiket1 >= 60:\n",
    "    kategori1 = \"Lansia\"\n",
    "    biaya1 = 0\n",
    "elif tiket1 >= 18:\n",
    "    kategori1 = \"Dewasa\"\n",
    "    biaya1 = 25_000\n",
    "elif tiket1 >= 13:\n",
    "    kategori1 = \"Remaja\"\n",
    "    biaya1 = 15_000\n",
    "elif tiket1 >= 0:\n",
    "    kategori1 = \"Anak-anak\"\n",
    "    biaya1 = 10_000\n",
    "else:\n",
    "    kategori1 = \"TIDAK ADA UMUR SEGITU\"\n",
    "    biaya1 = \"NGUAWOR CIK XIXIXI\"\n",
    "total += biaya1\n",
    "###############################################\n",
    "if tiket2 >= 60:\n",
    "    kategori2 = \"Lansia\"\n",
    "    biaya2 = 0\n",
    "elif tiket2 >= 18:\n",
    "    kategori2 = \"Dewasa\"\n",
    "    biaya2 = 25_000\n",
    "elif tiket2 >= 13:\n",
    "    kategori2 = \"Remaja\"\n",
    "    biaya2 = 15_000\n",
    "elif tiket2 >= 0:\n",
    "    kategori2 = \"Anak-anak\"\n",
    "    biaya2 = 10_000\n",
    "else:\n",
    "    kategori2 = \"TIDAK ADA UMUR SEGITU\"\n",
    "    biaya2 = \"NGUAWOR CIK XIXIXI\"\n",
    "total += biaya2\n",
    "###############################################\n",
    "if tiket3 >= 60:\n",
    "    kategori3 = \"Lansia\"\n",
    "    biaya3 = 0\n",
    "elif tiket3 >= 18:\n",
    "    kategori3 = \"Dewasa\"\n",
    "    biaya3 = 25_000\n",
    "elif tiket3 >= 13:\n",
    "    kategori3 = \"Remaja\"\n",
    "    biaya3 = 15_000\n",
    "elif tiket3 >= 0:\n",
    "    kategori3 = \"Anak-anak\"\n",
    "    biaya3 = 10_000\n",
    "else:\n",
    "    kategori3 = \"TIDAK ADA UMUR SEGITU\"\n",
    "    biaya3 = \"NGUAWOR CIK XIXIXI\"\n",
    "total += biaya3\n",
    "\n",
    "print(f\"TIKET 1: {kategori1}, HARGA: {biaya1}\")\n",
    "print(f\"TIKET 2: {kategori2}, HARGA: {biaya2}\")\n",
    "print(f\"TIKET 3: {kategori3}, HARGA: {biaya3}\")\n",
    "print(\"=============================================\")\n",
    "print(f\"TOTALNYA SEMUA: {total}\")"
   ]
  },
  {
   "cell_type": "code",
   "execution_count": 62,
   "id": "c3a80af3-fb62-4527-98ad-a9aedc623676",
   "metadata": {},
   "outputs": [
    {
     "name": "stdin",
     "output_type": "stream",
     "text": [
      "ISI PEMBAYARAN UKT:  10000000\n",
      "NILAI RAPOR:  95\n",
      "JUMLAH PENGHASILAN ORANG TUA:  7000000\n"
     ]
    },
    {
     "name": "stdout",
     "output_type": "stream",
     "text": [
      "SELAMAT ANDA MENDAPATKAN BEASISWA 50% DARI UKT ANDA SEBESAR: 5000000.0\n",
      "DARI UKT ANDA SEBESAR 10000000 MENJADI: 5000000.0\n",
      "==================================================================\n"
     ]
    },
    {
     "name": "stdin",
     "output_type": "stream",
     "text": [
      "ISI PEMBAYARAN UKT:  10000000\n",
      "NILAI RAPOR:  95\n",
      "JUMLAH PENGHASILAN ORANG TUA:  7000000\n"
     ]
    },
    {
     "name": "stdout",
     "output_type": "stream",
     "text": [
      "UANG UKT: 10000000\n",
      "NILAI RAPOR: 95\n",
      "PENGHASILAN ORTU: 7000000\n",
      "BEASISWA: 50\n",
      "TOTAL BAYAR: 5000000.0\n"
     ]
    }
   ],
   "source": [
    "#VERSI SAYA SENDIRI\n",
    "ukt = int(input(\"ISI PEMBAYARAN UKT: \"))\n",
    "rapor = int(input(\"NILAI RAPOR: \"))\n",
    "penghasilan = int(input(\"JUMLAH PENGHASILAN ORANG TUA: \"))\n",
    "\n",
    "if rapor >= 90 and penghasilan < 5000000:\n",
    "    print(\"SELAMAT! ANDA MENDAPATKAN BEASISWA PENUH\")\n",
    "elif rapor >= 85 and penghasilan < 8000000:\n",
    "    potongan = ukt*50/100\n",
    "    hasil = ukt - potongan\n",
    "    print(\"SELAMAT ANDA MENDAPATKAN BEASISWA 50% DARI UKT ANDA SEBESAR:\",potongan)\n",
    "    print(\"DARI UKT ANDA SEBESAR\",ukt,\"MENJADI:\",hasil)\n",
    "else:\n",
    "    print(\"ANDA TIDAK MENDAPATKAN BEASISWA\")\n",
    "\n",
    "print(\"==================================================================\")\n",
    "\n",
    "#VERSI BAPAK\n",
    "ukt = int(input(\"ISI PEMBAYARAN UKT: \"))\n",
    "rapor = int(input(\"NILAI RAPOR: \"))\n",
    "penghasilan = int(input(\"JUMLAH PENGHASILAN ORANG TUA: \"))\n",
    "\n",
    "if rapor >= 90:\n",
    "    if penghasilan < 5000000:\n",
    "        beasiswa = 100\n",
    "        keterangan = \"BEASISWA PENUH\"\n",
    "elif rapor >= 85:\n",
    "    if penghasilan < 8000000:\n",
    "        beasiswa = 50\n",
    "        keterangan = \"BEASISWA 50%\"\n",
    "else:\n",
    "    keterangan = \"TIDAK MENDAPATKAN BEASISWA\"\n",
    "\n",
    "total = ukt - (ukt*(beasiswa/100))\n",
    "print(f\"UANG UKT: {ukt}\")\n",
    "print(f\"NILAI RAPOR: {rapor}\")\n",
    "print(f\"PENGHASILAN ORTU: {penghasilan}\")\n",
    "print(f\"BEASISWA: {beasiswa}\")\n",
    "print(f\"TOTAL BAYAR: {total}\")"
   ]
  },
  {
   "cell_type": "code",
   "execution_count": 76,
   "id": "68bce378-f2f4-4ca4-aee4-beef20d6d829",
   "metadata": {},
   "outputs": [
    {
     "name": "stdin",
     "output_type": "stream",
     "text": [
      "ISIKAN JENIS KENDARAAN:  delman\n",
      "MASUKKAN JAM MASUK:  3\n",
      "MASUKKAN JAM KELUAR:  9\n"
     ]
    },
    {
     "name": "stdout",
     "output_type": "stream",
     "text": [
      "KENDARAAN TIDAK ADA DALAM LIST\n",
      "Total bayar parkir: 10000\n"
     ]
    }
   ],
   "source": [
    "jenis = input(\"ISIKAN JENIS KENDARAAN: \")\n",
    "hurufkecil = jenis.lower()\n",
    "jamMasuk = int(input(\"MASUKKAN JAM MASUK: \"))\n",
    "jamKeluar = int(input(\"MASUKKAN JAM KELUAR: \"))\n",
    "\n",
    "harga = 0\n",
    "total = 0\n",
    "tambahan = 0\n",
    "if jamMasuk >= jamKeluar:\n",
    "    print(\"INPUT JAM TIDAK VALID\")\n",
    "else:\n",
    "    if hurufkecil == \"motor\":\n",
    "        harga = 2000\n",
    "    elif hurufkecil == \"mobil\":\n",
    "        harga = 5000\n",
    "    else:\n",
    "        print(\"KENDARAAN TIDAK ADA DALAM LIST\")\n",
    "        harga = 0\n",
    "\n",
    "lama = jamKeluar - jamMasuk\n",
    "if lama > 5:\n",
    "    tambahan = 10000\n",
    "else:\n",
    "    tambahan = 0\n",
    "\n",
    "print(f\"Total bayar parkir: {lama * harga + tambahan}\")"
   ]
  }
 ],
 "metadata": {
  "kernelspec": {
   "display_name": "Python [conda env:base] *",
   "language": "python",
   "name": "conda-base-py"
  },
  "language_info": {
   "codemirror_mode": {
    "name": "ipython",
    "version": 3
   },
   "file_extension": ".py",
   "mimetype": "text/x-python",
   "name": "python",
   "nbconvert_exporter": "python",
   "pygments_lexer": "ipython3",
   "version": "3.12.7"
  }
 },
 "nbformat": 4,
 "nbformat_minor": 5
}
