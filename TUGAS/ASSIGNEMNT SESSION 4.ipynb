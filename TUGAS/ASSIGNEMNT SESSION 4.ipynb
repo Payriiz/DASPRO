{
 "cells": [
  {
   "cell_type": "markdown",
   "id": "0a409042-28d0-4ac0-a9fa-80014215f155",
   "metadata": {},
   "source": [
    "<h1>OPERATOR ARITMATIKA</h1>"
   ]
  },
  {
   "cell_type": "code",
   "execution_count": 28,
   "id": "9ac2d7b5-fa65-4d02-b6f0-05795c63d7a3",
   "metadata": {},
   "outputs": [
    {
     "name": "stdout",
     "output_type": "stream",
     "text": [
      "Jumlah apel budi 12 dibagi ke teman-temannya sebanyak 4 apel\n",
      "Masing-masing mendapatkan 3 apel\n",
      "=======================================================\n",
      "Budi mendapatkan tambahan apel sebanyak 8 apel\n",
      "Apel budi awalnya sebanyak 12 setelah mendapat tambahan, apel budi sekarang 20 apel\n",
      "Sekarang masing masing mendapatkan 5 apel\n"
     ]
    }
   ],
   "source": [
    "totalapel = 12\n",
    "jumlahteman = 4\n",
    "hasilbagi = totalapel // jumlahteman\n",
    "print(\"Jumlah apel budi\",totalapel,\"dibagi ke teman-temannya sebanyak\",jumlahteman,\"apel\")\n",
    "print(\"Masing-masing mendapatkan\",hasilbagi,\"apel\")\n",
    "\n",
    "print(\"=======================================================\")\n",
    "\n",
    "tambahanapel = 8\n",
    "print(\"Budi mendapatkan tambahan apel sebanyak\",tambahanapel,\"apel\")\n",
    "apelbudiskrg = totalapel + tambahanapel\n",
    "print(\"Apel budi awalnya sebanyak\",totalapel,\"setelah mendapat tambahan, apel budi sekarang\",apelbudiskrg,\"apel\")\n",
    "hasilbagi2 = apelbudiskrg // jumlahteman\n",
    "print(\"Sekarang masing masing mendapatkan\",hasilbagi2,\"apel\")"
   ]
  },
  {
   "cell_type": "markdown",
   "id": "7e88b2be-736b-4e49-a2b5-7e1e22ac32ac",
   "metadata": {},
   "source": [
    "<h1>OPERATOR PERBANDINGAN</h1>"
   ]
  },
  {
   "cell_type": "code",
   "execution_count": 46,
   "id": "b22151a8-256c-4180-8509-30bd99e7645b",
   "metadata": {},
   "outputs": [
    {
     "name": "stdout",
     "output_type": "stream",
     "text": [
      "Andi lebih tinggi dari Siti\n"
     ]
    }
   ],
   "source": [
    "tbsiti = 160\n",
    "tbandi = 165\n",
    "if tbsiti > tbandi:\n",
    "    print(\"Siti lebih tinggi dari Andi\")\n",
    "else:\n",
    "    tbandi > tbsiti\n",
    "    print(\"Andi lebih tinggi dari Siti\")"
   ]
  },
  {
   "cell_type": "markdown",
   "id": "7f36a821-a03d-46a5-ac1d-fd6b1408ab5d",
   "metadata": {},
   "source": [
    "<h1>OPERATOR LOGIKA</h1>"
   ]
  },
  {
   "cell_type": "code",
   "execution_count": 120,
   "id": "b792a476-c3a3-4ba6-9962-2e9648ae004e",
   "metadata": {},
   "outputs": [
    {
     "name": "stdin",
     "output_type": "stream",
     "text": [
      "Bagaimana cuaca hari ini?  CERAH\n",
      "Apakah PR selesai?  SELESAI\n"
     ]
    },
    {
     "name": "stdout",
     "output_type": "stream",
     "text": [
      "Budi Bisa Bermain\n"
     ]
    }
   ],
   "source": [
    "premis1 = input(\"Bagaimana cuaca hari ini? \")\n",
    "premis1kecil = premis1.lower()\n",
    "premis2 = input(\"Apakah PR selesai? \")\n",
    "premis2kecil = premis2.lower()\n",
    "if (premis1kecil == \"cerah\" and premis2kecil == \"selesai\"):\n",
    "    print(\"Budi Bisa Bermain\")\n",
    "else:\n",
    "    print(\"Budi tidak bisa bermain\")"
   ]
  },
  {
   "cell_type": "markdown",
   "id": "a339b5f6-d82b-4193-b3b4-64f977154dda",
   "metadata": {},
   "source": [
    "<h1>OPERATOR BITWISE</h1>"
   ]
  },
  {
   "cell_type": "code",
   "execution_count": 88,
   "id": "f9656c42-87b4-49f0-881d-bf7178cc3dae",
   "metadata": {},
   "outputs": [
    {
     "name": "stdout",
     "output_type": "stream",
     "text": [
      "0b110\n",
      "0b11\n",
      "0b10 = 2\n",
      "====================\n",
      "0b110\n",
      "0b11\n",
      "0b111 = 7\n",
      "====================\n",
      "0b110\n",
      "0b11\n",
      "0b101 = 5\n"
     ]
    }
   ],
   "source": [
    "num1 = 6\n",
    "num2 = 3\n",
    "bAnd = num1&num2\n",
    "print(bin(num1))\n",
    "print(bin(num2))\n",
    "print(bin(bAnd),\"=\",bAnd)\n",
    "print(\"====================\")\n",
    "bOr = num1|num2\n",
    "print(bin(num1))\n",
    "print(bin(num2))\n",
    "print(bin(bOr),\"=\",bOr)\n",
    "print(\"====================\")\n",
    "bXOr = num1^num2\n",
    "print(bin(num1))\n",
    "print(bin(num2))\n",
    "print(bin(bXOr),\"=\",bXOr)"
   ]
  },
  {
   "cell_type": "markdown",
   "id": "c2a04ee5-188f-4bff-b388-a8f402923602",
   "metadata": {},
   "source": [
    "<h1>OPERATOR PENUGASAN</h1>"
   ]
  },
  {
   "cell_type": "code",
   "execution_count": 103,
   "id": "53b0e41f-708b-45f2-92b1-2853f2f66232",
   "metadata": {},
   "outputs": [
    {
     "name": "stdout",
     "output_type": "stream",
     "text": [
      "Siswa memiliki saldo pulsa sebanyak 50000\n",
      "Mengisi ulang sebanyak Rp20000, sisa pulsa sebanyak 70000\n",
      "Membeli paket seharga Rp30000, sisa pulsa sebanyak 40000\n"
     ]
    }
   ],
   "source": [
    "pulsa = 50000\n",
    "print(\"Siswa memiliki saldo pulsa sebanyak\",pulsa)\n",
    "pulsa+=20000\n",
    "print(\"Mengisi ulang sebanyak Rp20000, sisa pulsa sebanyak\",pulsa)\n",
    "pulsa-=30000\n",
    "print(\"Membeli paket seharga Rp30000, sisa pulsa sebanyak\",pulsa)"
   ]
  },
  {
   "cell_type": "markdown",
   "id": "5259a837-118a-4ead-ae12-26c8bac6d9be",
   "metadata": {},
   "source": [
    "<h1>OPERATOR KEANGGOTAAN</h1>"
   ]
  },
  {
   "cell_type": "code",
   "execution_count": 126,
   "id": "6ac0b710-425b-4edf-a793-f9ba37f5aa04",
   "metadata": {},
   "outputs": [
    {
     "name": "stdin",
     "output_type": "stream",
     "text": [
      "Masukkan nama anggota:  EKA\n"
     ]
    },
    {
     "name": "stdout",
     "output_type": "stream",
     "text": [
      "PESERTA TIDAK ADA DALAM LIST\n"
     ]
    }
   ],
   "source": [
    "peserta = [\"andi\",\"budi\",\"citra\",\"dewi\"]\n",
    "findpeserta = input(\"Masukkan nama anggota: \")\n",
    "findpesertakecil = findpeserta.lower()\n",
    "if findpesertakecil in peserta:\n",
    "    print(\"PESERTA ADA DALAM LIST\")\n",
    "else:\n",
    "    print(\"PESERTA TIDAK ADA DALAM LIST\")"
   ]
  },
  {
   "cell_type": "code",
   "execution_count": 136,
   "id": "fe0dbe09-f47f-48a7-a5b7-24133c1267cf",
   "metadata": {},
   "outputs": [
    {
     "name": "stdout",
     "output_type": "stream",
     "text": [
      "Apakah kata Python Ada dalam kalimat Saya Suka Belajar Python ?\n",
      "Kata Python ada dalam kalimat\n"
     ]
    }
   ],
   "source": [
    "kalimat = \"Saya Suka Belajar Python\"\n",
    "cek = \"Python\"\n",
    "print(\"Apakah kata\",cek,\"Ada dalam kalimat\",kalimat,\"?\")\n",
    "if cek in kalimat:\n",
    "    print(\"Kata\",cek,\"ada dalam kalimat\")\n",
    "else:\n",
    "    print(\"Kata\",cek,\"tidak ada dalam kalimat\")"
   ]
  },
  {
   "cell_type": "markdown",
   "id": "6fc4a718-3b39-44e5-bff8-7742cf4f77c4",
   "metadata": {},
   "source": [
    "<h1>OPERATOR IDENTITAS</h1>"
   ]
  },
  {
   "cell_type": "code",
   "execution_count": 158,
   "id": "e85446c7-354a-4ec9-a3f2-ab0b5a26f5b5",
   "metadata": {},
   "outputs": [
    {
     "name": "stdout",
     "output_type": "stream",
     "text": [
      "Apakah nilai X dan Y sama? True\n"
     ]
    }
   ],
   "source": [
    "x = 9\n",
    "y = 9\n",
    "print(\"Apakah nilai X dan Y sama?\", x is y)"
   ]
  },
  {
   "cell_type": "code",
   "execution_count": 154,
   "id": "3ee1e7ec-7bed-4def-8721-56fa9bbbae9a",
   "metadata": {},
   "outputs": [
    {
     "name": "stdout",
     "output_type": "stream",
     "text": [
      "List pertama: [2, 4, 6]\n",
      "List kedua: [2, 4, 6]\n",
      "Apakah list1 dengan list2 sama? False\n",
      "Apakah nilai list1 dengan list2 sama? True\n"
     ]
    }
   ],
   "source": [
    "list1 = [2, 4, 6]\n",
    "list2 = [2, 4, 6]\n",
    "print(\"List pertama:\",list1)\n",
    "print(\"List kedua:\",list2)\n",
    "print(\"Apakah list1 dengan list2 sama?\",list1 is list2)\n",
    "print(\"Apakah nilai list1 dengan list2 sama?\",list1 == list2)"
   ]
  },
  {
   "cell_type": "markdown",
   "id": "813e3812-b739-40b2-a68a-bef94b744a74",
   "metadata": {},
   "source": [
    "<h1>OPERATOR TERNARY</h1>"
   ]
  },
  {
   "cell_type": "code",
   "execution_count": 171,
   "id": "c35d336e-a732-414c-a9e6-7850a03242c5",
   "metadata": {},
   "outputs": [
    {
     "name": "stdin",
     "output_type": "stream",
     "text": [
      "MASUKKAN ANGKA:  9\n"
     ]
    },
    {
     "name": "stdout",
     "output_type": "stream",
     "text": [
      "9 lebih kecil dari 100\n"
     ]
    }
   ],
   "source": [
    "angka = int(input(\"MASUKKAN ANGKA: \"))\n",
    "hasil = \"lebih besar dari 100\" if angka > 100 else \"lebih kecil dari 100\"\n",
    "print(angka,hasil)"
   ]
  },
  {
   "cell_type": "code",
   "execution_count": 201,
   "id": "5ac3d954-f030-4db6-96df-42023772e5bd",
   "metadata": {},
   "outputs": [
    {
     "name": "stdin",
     "output_type": "stream",
     "text": [
      "MASUKKAN NILAI:  90\n"
     ]
    },
    {
     "name": "stdout",
     "output_type": "stream",
     "text": [
      "Anda dinyatakan:  LULUS\n"
     ]
    }
   ],
   "source": [
    "nilai = int(input(\"MASUKKAN NILAI: \"))\n",
    "hasil = \"LULUS\" if nilai > 70 else \"TIDAK LULUS\"\n",
    "print(\"Anda dinyatakan:\",hasil)"
   ]
  }
 ],
 "metadata": {
  "kernelspec": {
   "display_name": "Python [conda env:base] *",
   "language": "python",
   "name": "conda-base-py"
  },
  "language_info": {
   "codemirror_mode": {
    "name": "ipython",
    "version": 3
   },
   "file_extension": ".py",
   "mimetype": "text/x-python",
   "name": "python",
   "nbconvert_exporter": "python",
   "pygments_lexer": "ipython3",
   "version": "3.12.7"
  }
 },
 "nbformat": 4,
 "nbformat_minor": 5
}
