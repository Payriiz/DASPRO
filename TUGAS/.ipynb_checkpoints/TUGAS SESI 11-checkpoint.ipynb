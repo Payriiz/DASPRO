{
 "cells": [
  {
   "cell_type": "code",
   "execution_count": 96,
   "id": "51dec56a-6924-4c43-b384-2a73b929508b",
   "metadata": {},
   "outputs": [
    {
     "name": "stdout",
     "output_type": "stream",
     "text": [
      "UKA ATNIC UMAK\n"
     ]
    }
   ],
   "source": [
    "#1. Reverse setiap kata\n",
    "def reverse_per_kata(kalimat):\n",
    "    return ' '.join([kata[::-1] for kata in kalimat.split()])\n",
    "print(reverse_per_kata(\"AKU CINTA KAMU\"))\n",
    "\n",
    "def urutkan_kalimat(kalimat,urutan)"
   ]
  }
 ],
 "metadata": {
  "kernelspec": {
   "display_name": "Python [conda env:base] *",
   "language": "python",
   "name": "conda-base-py"
  },
  "language_info": {
   "codemirror_mode": {
    "name": "ipython",
    "version": 3
   },
   "file_extension": ".py",
   "mimetype": "text/x-python",
   "name": "python",
   "nbconvert_exporter": "python",
   "pygments_lexer": "ipython3",
   "version": "3.12.7"
  }
 },
 "nbformat": 4,
 "nbformat_minor": 5
}
